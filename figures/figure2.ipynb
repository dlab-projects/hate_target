{
 "cells": [
  {
   "cell_type": "code",
   "execution_count": null,
   "id": "e656df86-47d2-4af0-a8b2-9395be28d638",
   "metadata": {},
   "outputs": [],
   "source": [
    "import matplotlib.pyplot as plt\n",
    "import mpl_lego as mplego\n",
    "import numpy as np\n",
    "import pandas as pd\n",
    "\n",
    "from hate_target import keys, datasets, utils\n",
    "from mpl_lego.labels import bold_text, apply_subplot_labels\n",
    "from pyprojroot import here\n",
    "from scipy.stats import iqr\n",
    "\n",
    "%matplotlib inline"
   ]
  },
  {
   "cell_type": "code",
   "execution_count": null,
   "id": "f88c0b07-f76c-4e06-b7b5-98e7d8405aa0",
   "metadata": {},
   "outputs": [],
   "source": [
    "mplego.style.use_latex_style()"
   ]
  },
  {
   "cell_type": "code",
   "execution_count": null,
   "id": "c56e085e-f4af-4bb2-aea6-693c6b47988c",
   "metadata": {},
   "outputs": [],
   "source": [
    "analysis = utils.analyze_experiment(here('experiments/exp07a.pkl'), soft=True, verbose=True)\n",
    "n_groups = analysis['roc_aucs'].shape[1]\n",
    "labels = bold_text(sorted(keys.target_labels))"
   ]
  },
  {
   "cell_type": "code",
   "execution_count": null,
   "id": "ed528fd6-e1b7-44be-b8be-543d9eaead18",
   "metadata": {},
   "outputs": [],
   "source": [
    "incidence_rates = analysis['incidence_rate']\n",
    "sorted_idx = np.flip(np.argsort(incidence_rates))"
   ]
  },
  {
   "cell_type": "code",
   "execution_count": null,
   "id": "b4c430a1-23b2-4b25-9072-a0256d91191b",
   "metadata": {},
   "outputs": [],
   "source": [
    "fig, axes = plt.subplots(1, 2, figsize=(14, 4))\n",
    "\n",
    "plt.subplots_adjust(wspace=0.1)\n",
    "width = 0.28\n",
    "\n",
    "axes[0].bar(\n",
    "    x=np.arange(n_groups) - width,\n",
    "    height=analysis['precision'].mean(axis=0)[sorted_idx],\n",
    "    width=width,\n",
    "    yerr=np.std(analysis['precision'], axis=0)[sorted_idx],\n",
    "    color='C0',\n",
    "    edgecolor='black',\n",
    "    error_kw={'capsize': 2},\n",
    "    label='Precision')\n",
    "axes[0].bar(\n",
    "    x=np.arange(n_groups),\n",
    "    height=analysis['recall'].mean(axis=0)[sorted_idx],\n",
    "    width=width,\n",
    "    yerr=np.std(analysis['recall'], axis=0)[sorted_idx],\n",
    "    color='C1',\n",
    "    edgecolor='black',\n",
    "    error_kw={'capsize': 2},\n",
    "    label='Recall')\n",
    "axes[0].bar(\n",
    "    x=np.arange(n_groups) + width,\n",
    "    height=analysis['f1_scores'].mean(axis=0)[sorted_idx],\n",
    "    width=width,\n",
    "    yerr=np.std(analysis['f1_scores'], axis=0)[sorted_idx],\n",
    "    color='C2',\n",
    "    edgecolor='black',\n",
    "    error_kw={'capsize': 2},\n",
    "    label='F1 Score')\n",
    "\n",
    "axes[0].set_ylim([0, 1])\n",
    "axes[0].grid(axis='y')\n",
    "axes[0].set_axisbelow(True)\n",
    "\n",
    "width = 0.40\n",
    "axes[1].bar(\n",
    "    x=np.arange(n_groups) - width / 2,\n",
    "    height=analysis['roc_aucs'].mean(axis=0)[sorted_idx],\n",
    "    width=width,\n",
    "    yerr=np.std(analysis['roc_aucs'], axis=0)[sorted_idx],\n",
    "    color='C4',\n",
    "    edgecolor='black',\n",
    "    error_kw={'capsize': 3},\n",
    "    label='ROC AUC')\n",
    "axes[1].bar(\n",
    "    x=np.arange(n_groups) + width / 2,\n",
    "    height=analysis['pr_aucs'].mean(axis=0)[sorted_idx],\n",
    "    width=width,\n",
    "    yerr=np.std(analysis['pr_aucs'], axis=0)[sorted_idx],\n",
    "    color='lightgrey',\n",
    "    edgecolor='black',\n",
    "    error_kw={'capsize': 3},\n",
    "    label='PR AUC')\n",
    "\n",
    "for idx, rate in enumerate(analysis['incidence_rate'][sorted_idx]):\n",
    "    axes[1].plot([idx + width, idx], [rate, rate], color='black', lw=2.5)\n",
    "\n",
    "axes[1].grid(axis='y')\n",
    "axes[1].set_axisbelow(True)\n",
    "\n",
    "for ax in axes:\n",
    "    ax.set_yticks([0, 0.1, 0.2, 0.3, 0.4, 0.5, 0.6, 0.7, 0.8, 0.9, 1.0])\n",
    "    ax.set_yticklabels([0, 0.1, 0.2, 0.3, 0.4, 0.5, 0.6, 0.7, 0.8, 0.9, 1.0])\n",
    "    ax.set_xticks(np.arange(n_groups))\n",
    "    ax.set_xticklabels(np.array(bold_text(sorted(keys.target_labels)))[sorted_idx], ha='right', rotation=20)\n",
    "\n",
    "axes[0].legend(bbox_to_anchor=(0.5, 1.06), loc='center', ncol=3, prop={'size': 13})\n",
    "axes[1].legend(bbox_to_anchor=(0.5, 1.06), loc='center', ncol=2, prop={'size': 13})\n",
    "axes[0].set_ylim([0, 1.03])\n",
    "\n",
    "for ax in axes:\n",
    "    ax.tick_params(labelsize=14)\n",
    "\n",
    "apply_subplot_labels(axes, bold=True, x=-0.04, y=1.07, size=18)\n",
    "axes[0].set_ylabel(bold_text('Metric'), fontsize=17)\n",
    "\n",
    "plt.savefig('figure2.pdf', bbox_inches='tight')"
   ]
  }
 ],
 "metadata": {
  "kernelspec": {
   "display_name": "hate",
   "language": "python",
   "name": "hate"
  },
  "language_info": {
   "codemirror_mode": {
    "name": "ipython",
    "version": 3
   },
   "file_extension": ".py",
   "mimetype": "text/x-python",
   "name": "python",
   "nbconvert_exporter": "python",
   "pygments_lexer": "ipython3",
   "version": "3.8.12"
  }
 },
 "nbformat": 4,
 "nbformat_minor": 5
}
