{
 "cells": [
  {
   "cell_type": "code",
   "execution_count": null,
   "id": "d1dc0550-5e94-4170-9cd0-0ec2531a25db",
   "metadata": {},
   "outputs": [],
   "source": [
    "import matplotlib.pyplot as plt\n",
    "import mpl_lego as mplego\n",
    "import numpy as np\n",
    "import pandas as pd\n",
    "import pickle\n",
    "\n",
    "from hate_target import keys\n",
    "from mpl_lego.labels import bold_text, apply_subplot_labels\n",
    "from mpl_lego.colorbar import append_colorbar_to_axis\n",
    "from pyprojroot import here\n",
    "from sklearn.metrics import roc_auc_score, average_precision_score, f1_score\n",
    "\n",
    "%matplotlib inline"
   ]
  },
  {
   "cell_type": "code",
   "execution_count": null,
   "id": "17efb2f3-12ac-4347-b014-bc5165eb834b",
   "metadata": {},
   "outputs": [],
   "source": [
    "mplego.style.use_latex_style()"
   ]
  },
  {
   "cell_type": "code",
   "execution_count": null,
   "id": "00fc3a4b-de95-489f-9320-a3594ffff25f",
   "metadata": {},
   "outputs": [],
   "source": [
    "labels = keys.target_labels"
   ]
  },
  {
   "cell_type": "code",
   "execution_count": null,
   "id": "74609f7e-e9e1-4aa7-87cc-dd0588f50ab2",
   "metadata": {},
   "outputs": [],
   "source": [
    "exp06a_path = here('experiments/exp05f.pkl')\n",
    "with open(exp06a_path, 'rb') as file:\n",
    "    results = pickle.load(file)\n"
   ]
  },
  {
   "cell_type": "code",
   "execution_count": null,
   "id": "7c4ded26-8e22-4d08-b519-509ac1de3104",
   "metadata": {},
   "outputs": [],
   "source": [
    "y_true = np.array(results['y_true']).squeeze().T\n",
    "y_hard = (y_true >= 0.5).astype('int')\n",
    "y_pred = np.array(results['y_pred']).squeeze().T\n",
    "y_pred_labels = (y_pred >= 0.4).astype('int')\n",
    "hits = y_pred_labels == y_true\n",
    "n_groups = y_true.shape[1]"
   ]
  },
  {
   "cell_type": "code",
   "execution_count": null,
   "id": "c4b29f4a-0884-49a1-8f38-13ea00e290b7",
   "metadata": {},
   "outputs": [],
   "source": [
    "roc_aucs = np.zeros((8, 8))\n",
    "pr_aucs = np.zeros((8, 8))\n",
    "f1_scores = np.zeros((8, 8))\n",
    "xs = []\n",
    "ys = []"
   ]
  },
  {
   "cell_type": "code",
   "execution_count": null,
   "id": "6c2d1d02-ce48-4119-9432-d30a76551157",
   "metadata": {},
   "outputs": [],
   "source": [
    "for ii in range(8):\n",
    "    for jj in range(8):\n",
    "        if ii != jj:\n",
    "            multi_idx = np.unique(np.concatenate((\n",
    "                np.argwhere(np.all(y_hard[:, [ii, jj]], axis=1)).ravel(),\n",
    "                np.argwhere(np.all(y_pred_labels[:, [ii, jj]], axis=1)).ravel())))\n",
    "            if np.all(y_hard[multi_idx, ii]) or np.all(y_hard[multi_idx, jj]):\n",
    "                roc_aucs[ii, jj] = np.nan\n",
    "                pr_aucs[ii, jj] = np.nan\n",
    "                f1_scores[ii, jj] = np.nan\n",
    "                if ii < jj:\n",
    "                    xs.append(ii)\n",
    "                    ys.append(jj)\n",
    "            else:\n",
    "                roc_aucs[ii, jj] = roc_auc_score(y_hard[:, [ii, jj]], y_pred_labels[:, [ii, jj]], average='weighted')\n",
    "                pr_aucs[ii, jj] = average_precision_score(y_hard[:, [ii, jj]], y_pred_labels[:, [ii, jj]], average='weighted')\n",
    "                f1_scores[ii, jj] = f1_score(y_hard[:, [ii, jj]], y_pred_labels[:, [ii, jj]], average='weighted')"
   ]
  },
  {
   "cell_type": "code",
   "execution_count": null,
   "id": "b9e573a7-328b-42e2-be92-c06170007dd9",
   "metadata": {},
   "outputs": [],
   "source": [
    "cross_counts = y_hard.T @ y_hard\n",
    "normalized_counts = np.zeros_like(cross_counts, dtype='float')\n",
    "\n",
    "for ii in range(8):\n",
    "    for jj in range(8):\n",
    "        normalized_counts[ii, jj] = cross_counts[ii, jj] / min(cross_counts[ii, ii], cross_counts[jj, jj])\n"
   ]
  },
  {
   "cell_type": "code",
   "execution_count": null,
   "id": "134c3080-f467-4e6c-a6bf-1fa6e13c6445",
   "metadata": {},
   "outputs": [],
   "source": [
    "fig, axes = plt.subplots(2, 2, figsize=(10, 9), sharex=True, sharey=True)\n",
    "\n",
    "\n",
    "for ax in axes.ravel():\n",
    "    ax.set_xlim([-0.5, 7.5])\n",
    "    ax.set_ylim([7.5, 0.5])\n",
    "\n",
    "plt.subplots_adjust(wspace=0.35, hspace=0.3)\n",
    "masked = np.ma.array(normalized_counts, mask=np.triu(normalized_counts, k=0))\n",
    "img = axes[0, 0].imshow(masked, vmin=0, vmax=0.5, interpolation=None, cmap='plasma')\n",
    "cb, cax = append_colorbar_to_axis(axes[0, 0], img, spacing=-0.08)\n",
    "cax.tick_params(labelsize=13)\n",
    "cb.set_ticks([0, 0.25, 0.5, 0.75, 1.0])\n",
    "cb.set_label(bold_text('Sample Overlap'), fontsize=15, rotation=270, labelpad=20)\n",
    "    \n",
    "axes[0, 0].set_xticks(np.arange(n_groups - 1))\n",
    "axes[0, 0].set_xticklabels(bold_text(labels[:-1]), ha='right', rotation=30)\n",
    "axes[0, 0].set_yticks(1 + np.arange(n_groups - 1))\n",
    "axes[0, 0].set_yticklabels(bold_text(labels[1:]), ha='right')\n",
    "axes[0, 0].tick_params(labelsize=13)\n",
    "\n",
    "masked = np.ma.array(f1_scores, mask=np.triu(normalized_counts, k=0))\n",
    "img = axes[0, 1].imshow(masked, vmin=0., vmax=1, interpolation=None, cmap='plasma')\n",
    "cb, cax = append_colorbar_to_axis(axes[0, 1], img, spacing=-0.08)\n",
    "cax.tick_params(labelsize=13)\n",
    "cb.set_ticks([0, 0.25, 0.5, 0.75, 1.0])\n",
    "cb.set_label(bold_text('F1 Score'), fontsize=15, rotation=270, labelpad=20)\n",
    "\n",
    "axes[0, 1].set_xticks(np.arange(n_groups - 1))\n",
    "axes[0, 1].set_xticklabels(bold_text(labels[:-1]), ha='right', rotation=30)\n",
    "axes[0, 1].set_yticks(1 + np.arange(n_groups - 1))\n",
    "axes[0, 1].set_yticklabels(bold_text(labels[1:]), ha='right')\n",
    "axes[0, 1].tick_params(labelsize=13)\n",
    "\n",
    "masked = np.ma.array(roc_aucs, mask=np.triu(normalized_counts, k=0))\n",
    "img = axes[1, 0].imshow(masked, vmin=0., vmax=1, interpolation=None, cmap='plasma')\n",
    "cb, cax = append_colorbar_to_axis(axes[1, 0], img, spacing=-0.08)\n",
    "cax.tick_params(labelsize=13)\n",
    "cb.set_ticks([0, 0.25, 0.5, 0.75, 1.0])\n",
    "cb.set_label(bold_text('ROC AUC'), fontsize=15, rotation=270, labelpad=20)\n",
    "\n",
    "axes[1, 0].set_xticks(np.arange(n_groups - 1))\n",
    "axes[1, 0].set_xticklabels(bold_text(labels[:-1]), ha='right', rotation=30)\n",
    "axes[1, 0].set_yticks(1 + np.arange(n_groups - 1))\n",
    "axes[1, 0].set_yticklabels(bold_text(labels[1:]), ha='right')\n",
    "axes[1, 0].tick_params(labelsize=13)\n",
    "\n",
    "\n",
    "masked = np.ma.array(pr_aucs, mask=np.triu(normalized_counts, k=0))\n",
    "img = axes[1, 1].imshow(masked, vmin=0., vmax=1, interpolation=None, cmap='plasma')\n",
    "cb, cax = append_colorbar_to_axis(axes[1, 1], img, spacing=-0.08)\n",
    "cax.tick_params(labelsize=13)\n",
    "cb.set_ticks([0, 0.25, 0.5, 0.75, 1.0])\n",
    "cb.set_label(bold_text('PR AUC'), fontsize=15, rotation=270, labelpad=20)\n",
    "\n",
    "axes[1, 1].set_xticks(np.arange(n_groups - 1))\n",
    "axes[1, 1].set_xticklabels(bold_text(labels[:-1]), ha='right', rotation=30)\n",
    "axes[1, 1].set_yticks(1 + np.arange(n_groups - 1))\n",
    "axes[1, 1].set_yticklabels(bold_text(labels[1:]), ha='right')\n",
    "axes[1, 1].tick_params(labelsize=13)\n",
    "\n",
    "for ax in [axes[0, 1], axes[1, 0], axes[1, 1]]:\n",
    "    ax.scatter(xs, ys, marker='x', color='black', s=200)\n",
    "\n",
    "for ax in axes.ravel():\n",
    "    for spine in ax.spines.values():\n",
    "        spine.set_visible(False)\n",
    "\n",
    "apply_subplot_labels(axes, bold=True, size=18, y=1.08)\n",
    "plt.savefig('figure4.pdf', bbox_inches='tight')"
   ]
  }
 ],
 "metadata": {
  "kernelspec": {
   "display_name": "hate",
   "language": "python",
   "name": "hate"
  },
  "language_info": {
   "codemirror_mode": {
    "name": "ipython",
    "version": 3
   },
   "file_extension": ".py",
   "mimetype": "text/x-python",
   "name": "python",
   "nbconvert_exporter": "python",
   "pygments_lexer": "ipython3",
   "version": "3.8.12"
  }
 },
 "nbformat": 4,
 "nbformat_minor": 5
}
