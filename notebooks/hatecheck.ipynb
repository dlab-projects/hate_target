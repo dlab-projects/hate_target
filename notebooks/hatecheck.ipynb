{
 "cells": [
  {
   "cell_type": "code",
   "execution_count": 1,
   "id": "b428babf-bbd7-4747-b1e6-2273df8a5c8b",
   "metadata": {},
   "outputs": [],
   "source": [
    "import matplotlib.pyplot as plt\n",
    "import mpl_lego as mplego\n",
    "import numpy as np\n",
    "import pandas as pd\n",
    "import pickle\n",
    "import tensorflow as tf\n",
    "\n",
    "from pyprojroot import here\n",
    "from hate_target import keys\n",
    "from hate_target import utils\n",
    "\n",
    "from sklearn.metrics import roc_auc_score, average_precision_score\n",
    "from mpl_lego.labels import bold_text\n",
    "\n",
    "from hate_measure.nn.classifiers import TargetIdentityClassifier\n",
    "\n",
    "%matplotlib inline"
   ]
  },
  {
   "cell_type": "code",
   "execution_count": 2,
   "id": "42326235-270d-486f-9e20-63f68a5f6a7e",
   "metadata": {},
   "outputs": [],
   "source": [
    "path = \"~/data/hatespeech/hatecheck/all_cases.csv\""
   ]
  },
  {
   "cell_type": "code",
   "execution_count": 9,
   "id": "7cecf205-7416-4245-8184-0bebeda65643",
   "metadata": {},
   "outputs": [],
   "source": [
    "data = pd.read_csv(path, index_col=0).rename({\"target_ident\": \"target_identity\"}, axis=1)"
   ]
  },
  {
   "cell_type": "code",
   "execution_count": null,
   "id": "b0f15380-ea16-4b9e-b8de-d5156510b11f",
   "metadata": {},
   "outputs": [],
   "source": []
  },
  {
   "cell_type": "code",
   "execution_count": 11,
   "id": "96f7238f-50dc-4851-a791-4c9dcd6b6ea2",
   "metadata": {},
   "outputs": [
    {
     "data": {
      "text/plain": [
       "gay people         577\n",
       "women              535\n",
       "disabled people    510\n",
       "Muslims            510\n",
       "black people       504\n",
       "trans people       485\n",
       "immigrants         485\n",
       "Name: target_identity, dtype: int64"
      ]
     },
     "execution_count": 11,
     "metadata": {},
     "output_type": "execute_result"
    }
   ],
   "source": [
    "data['target_identity'].value_counts()"
   ]
  },
  {
   "cell_type": "code",
   "execution_count": null,
   "id": "a2341ff5-59d7-479c-9c30-400bc6aa5636",
   "metadata": {},
   "outputs": [],
   "source": []
  }
 ],
 "metadata": {
  "kernelspec": {
   "display_name": "hate",
   "language": "python",
   "name": "hate"
  },
  "language_info": {
   "codemirror_mode": {
    "name": "ipython",
    "version": 3
   },
   "file_extension": ".py",
   "mimetype": "text/x-python",
   "name": "python",
   "nbconvert_exporter": "python",
   "pygments_lexer": "ipython3",
   "version": "3.8.12"
  }
 },
 "nbformat": 4,
 "nbformat_minor": 5
}
