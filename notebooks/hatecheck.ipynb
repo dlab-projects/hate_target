{
 "cells": [
  {
   "cell_type": "code",
   "execution_count": null,
   "id": "removable-cliff",
   "metadata": {},
   "outputs": [],
   "source": [
    "import matplotlib.pyplot as plt\n",
    "import mpl_lego as mplego\n",
    "import numpy as np\n",
    "import pandas as pd\n",
    "import pickle\n",
    "import tensorflow as tf\n",
    "import transformers\n",
    "\n",
    "from pyprojroot import here\n",
    "from hate_target import keys\n",
    "from hate_target import utils\n",
    "\n",
    "from sklearn.metrics import roc_auc_score, average_precision_score, f1_score\n",
    "from mpl_lego.labels import bold_text\n",
    "\n",
    "from hate_measure.nn.classifiers import TargetIdentityClassifier\n",
    "\n",
    "%matplotlib inline"
   ]
  },
  {
   "cell_type": "code",
   "execution_count": null,
   "id": "female-spectacular",
   "metadata": {},
   "outputs": [],
   "source": [
    "path = \"~/data/hatecheck/all_cases.csv\""
   ]
  },
  {
   "cell_type": "code",
   "execution_count": null,
   "id": "smart-cookie",
   "metadata": {},
   "outputs": [],
   "source": [
    "data = pd.read_csv(path, index_col=0).rename({\"target_ident\": \"target_identity\"}, axis=1)"
   ]
  },
  {
   "cell_type": "code",
   "execution_count": null,
   "id": "fleet-escape",
   "metadata": {},
   "outputs": [],
   "source": [
    "data['target_race'] = data['target_identity'] == 'black people'\n",
    "data['target_gender'] = (data['target_identity'] == 'women') | (data['target_identity'] == 'trans people')\n",
    "data['target_sexuality'] = data['target_identity'] == 'gay people'\n",
    "data['target_religion'] = data['target_identity'] == 'Muslims'\n",
    "data['target_disability'] = data['target_identity'] == 'disabled people'\n",
    "data['target_origin'] = data['target_identity'] == 'immigrants'"
   ]
  },
  {
   "cell_type": "code",
   "execution_count": null,
   "id": "consolidated-collaboration",
   "metadata": {},
   "outputs": [],
   "source": [
    "target_groups = sorted(['target_disability', 'target_race', 'target_gender', 'target_religion', 'target_sexuality', 'target_origin'])"
   ]
  },
  {
   "cell_type": "code",
   "execution_count": null,
   "id": "ranging-workplace",
   "metadata": {},
   "outputs": [],
   "source": [
    "hatecheck = data[['test_case'] + target_groups]"
   ]
  },
  {
   "cell_type": "code",
   "execution_count": null,
   "id": "living-supply",
   "metadata": {},
   "outputs": [],
   "source": [
    "model_builder = TargetIdentityClassifier.build_model"
   ]
  },
  {
   "cell_type": "code",
   "execution_count": null,
   "id": "insured-cuisine",
   "metadata": {},
   "outputs": [],
   "source": [
    "model_kwargs = {\n",
    "    'transformer': 'roberta-large',\n",
    "    'max_length': 247,\n",
    "    'n_dense': 256,\n",
    "    'dropout_rate': 0.05,\n",
    "    'pooling': 'mean',\n",
    "    'mask_pool': False\n",
    "}"
   ]
  },
  {
   "cell_type": "code",
   "execution_count": null,
   "id": "sophisticated-champagne",
   "metadata": {},
   "outputs": [],
   "source": [
    "model = model_builder(**model_kwargs)"
   ]
  },
  {
   "cell_type": "code",
   "execution_count": null,
   "id": "mounted-pottery",
   "metadata": {},
   "outputs": [],
   "source": [
    "model.load_weights('/home/psachdeva/experiments/target_identity/exp07/exp07a_model.h5')"
   ]
  },
  {
   "cell_type": "code",
   "execution_count": null,
   "id": "handed-values",
   "metadata": {},
   "outputs": [],
   "source": [
    "tokenizer = transformers.RobertaTokenizer.from_pretrained(\"roberta-large\")\n",
    "tokens = tokenizer(hatecheck['test_case'].tolist(), return_tensors='np', max_length=247, truncation=True, padding='max_length')\n",
    "inputs = [tokens['input_ids'], tokens['attention_mask']]"
   ]
  },
  {
   "cell_type": "code",
   "execution_count": null,
   "id": "antique-shock",
   "metadata": {},
   "outputs": [],
   "source": [
    "y_pred = model.predict(inputs)"
   ]
  },
  {
   "cell_type": "code",
   "execution_count": null,
   "id": "preceding-destruction",
   "metadata": {},
   "outputs": [],
   "source": [
    "y_true = [hatecheck[col].values.astype('int') for col in target_groups]\n",
    "y_pred_subset = [y_pred[i].ravel() for i in [1, 2, 3, 5, 6, 7]]"
   ]
  },
  {
   "cell_type": "code",
   "execution_count": null,
   "id": "plain-violence",
   "metadata": {},
   "outputs": [],
   "source": [
    "accuracies = [(y_true[idx] == (y_pred_subset[idx] >= 0.5).astype('int')).mean() for idx in range(6)]\n",
    "print(accuracies)"
   ]
  },
  {
   "cell_type": "code",
   "execution_count": null,
   "id": "american-referral",
   "metadata": {},
   "outputs": [],
   "source": [
    "chance = [1 - y_true[idx].mean() for idx in range(6)]\n",
    "print(chance)"
   ]
  },
  {
   "cell_type": "code",
   "execution_count": null,
   "id": "miniature-singapore",
   "metadata": {},
   "outputs": [],
   "source": [
    "f1_scores = [f1_score(y_true[idx], (y_pred_subset[idx] >= 0.5).astype('int')) for idx in range(6)]\n",
    "print(f1_scores)"
   ]
  },
  {
   "cell_type": "code",
   "execution_count": null,
   "id": "crude-grass",
   "metadata": {},
   "outputs": [],
   "source": [
    "roc_aucs = [roc_auc_score(y_true[idx], y_pred_subset[idx]) for idx in range(6)]\n",
    "print(roc_aucs)"
   ]
  },
  {
   "cell_type": "code",
   "execution_count": null,
   "id": "metropolitan-establishment",
   "metadata": {},
   "outputs": [],
   "source": [
    "pr_aucs = [average_precision_score(y_true[idx], y_pred_subset[idx]) for idx in range(6)]\n",
    "print(pr_aucs)"
   ]
  },
  {
   "cell_type": "code",
   "execution_count": null,
   "id": "united-image",
   "metadata": {},
   "outputs": [],
   "source": [
    "f1_scores = [f1_score(y_true[idx], (y_pred_subset[idx] >= 0.5).astype('int')) for idx in range(6)]\n",
    "print(f1_scores)"
   ]
  }
 ],
 "metadata": {
  "kernelspec": {
   "display_name": "hate",
   "language": "python",
   "name": "hate"
  },
  "language_info": {
   "codemirror_mode": {
    "name": "ipython",
    "version": 3
   },
   "file_extension": ".py",
   "mimetype": "text/x-python",
   "name": "python",
   "nbconvert_exporter": "python",
   "pygments_lexer": "ipython3",
   "version": "3.7.10"
  }
 },
 "nbformat": 4,
 "nbformat_minor": 5
}
