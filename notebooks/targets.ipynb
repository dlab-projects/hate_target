{
 "cells": [
  {
   "cell_type": "code",
   "execution_count": 1,
   "id": "571ce57e-c240-4534-a3d4-47840f85f000",
   "metadata": {},
   "outputs": [],
   "source": [
    "import matplotlib.pyplot as plt\n",
    "import mpl_lego as mplego\n",
    "import numpy as np\n",
    "import pandas as pd\n",
    "\n",
    "from hate_target import keys\n",
    "\n",
    "%matplotlib inline"
   ]
  },
  {
   "cell_type": "code",
   "execution_count": 2,
   "id": "8c54bfb9-be30-4c8a-b087-f8b36a2283f4",
   "metadata": {},
   "outputs": [],
   "source": [
    "mplego.style.use_latex_style()"
   ]
  },
  {
   "cell_type": "code",
   "execution_count": 3,
   "id": "d8694151-0931-4033-b96f-1cdc138c806f",
   "metadata": {},
   "outputs": [],
   "source": [
    "data_path = \"~/data/hatespeech/unfiltered_ratings.feather\""
   ]
  },
  {
   "cell_type": "code",
   "execution_count": 4,
   "id": "313fb0b7-aee9-4f91-b0c0-96a2061310fc",
   "metadata": {},
   "outputs": [],
   "source": [
    "data = pd.read_feather(data_path)"
   ]
  },
  {
   "cell_type": "code",
   "execution_count": 5,
   "id": "775423c5-ce7e-415a-b879-4736759e9b91",
   "metadata": {},
   "outputs": [],
   "source": [
    "avg = data[['comment_id'] + keys.target_groups].groupby('comment_id').agg('mean')"
   ]
  },
  {
   "cell_type": "code",
   "execution_count": 15,
   "id": "b96b7bdf-8cd0-4116-a2e4-64de798e57e3",
   "metadata": {},
   "outputs": [],
   "source": [
    "is_target = avg >= 0.5"
   ]
  },
  {
   "cell_type": "code",
   "execution_count": 22,
   "id": "79c4fe61-d2dd-4818-aab9-e5f1a3c273bf",
   "metadata": {},
   "outputs": [
    {
     "data": {
      "text/plain": [
       "target_race          8551\n",
       "target_religion      4784\n",
       "target_origin        4688\n",
       "target_gender        9558\n",
       "target_sexuality     5268\n",
       "target_age            339\n",
       "target_disability     502\n",
       "target_politics      2502\n",
       "dtype: int64"
      ]
     },
     "execution_count": 22,
     "metadata": {},
     "output_type": "execute_result"
    }
   ],
   "source": [
    "is_target.sum()"
   ]
  },
  {
   "cell_type": "code",
   "execution_count": 6,
   "id": "6176a99f-d1a8-4545-a4e6-023404e05962",
   "metadata": {},
   "outputs": [],
   "source": [
    "targets = {}\n",
    "\n",
    "for key in keys.target_groups:\n",
    "    group = avg[key]\n",
    "    agreement = group >= 0.5\n",
    "    comment_ids = avg[agreement].index.values\n",
    "    targets[key] = comment_ids"
   ]
  },
  {
   "cell_type": "code",
   "execution_count": 11,
   "id": "e235414a-a990-46c0-b2d0-4bf609b1cf93",
   "metadata": {},
   "outputs": [],
   "source": [
    "n_groups = len(keys.target_groups)"
   ]
  },
  {
   "cell_type": "code",
   "execution_count": 7,
   "id": "762e8582-3772-4f62-9d16-2c01c8fb9ec3",
   "metadata": {},
   "outputs": [],
   "source": [
    "counts = [len(val) for val in targets.values()]"
   ]
  },
  {
   "cell_type": "code",
   "execution_count": 12,
   "id": "7f2d0c84-f75e-4f86-b95b-4b555d0b1fc7",
   "metadata": {},
   "outputs": [
    {
     "data": {
      "text/plain": [
       "[Text(0, 0, 'Race'),\n",
       " Text(1, 0, 'Religion'),\n",
       " Text(2, 0, 'Origin'),\n",
       " Text(3, 0, 'Gender'),\n",
       " Text(4, 0, 'Sexuality'),\n",
       " Text(5, 0, 'Age'),\n",
       " Text(6, 0, 'Disability'),\n",
       " Text(7, 0, 'Politics')]"
      ]
     },
     "execution_count": 12,
     "metadata": {},
     "output_type": "execute_result"
    },
    {
     "data": {
      "image/png": "[encoded data removed]",
      "text/plain": [
       "<Figure size 720x360 with 1 Axes>"
      ]
     },
     "metadata": {
      "needs_background": "light"
     },
     "output_type": "display_data"
    }
   ],
   "source": [
    "fig, ax = plt.subplots(1, 1, figsize=(10, 5))\n",
    "\n",
    "ax.bar(np.arange(n_groups), counts)\n",
    "ax.set_xticks(np.arange(n_groups))\n",
    "ax.set_xticklabels(keys.target_labels)"
   ]
  },
  {
   "cell_type": "code",
   "execution_count": 17,
   "id": "1de4dd0d-69f3-4c6e-9bea-e068da8abc8a",
   "metadata": {},
   "outputs": [
    {
     "data": {
      "text/plain": [
       "(array([  24.,  594., 6538.,  420., 1173., 2716.,  936.,  249., 2815.,\n",
       "          74., 1762.]),\n",
       " array([0.00541516, 0.09583197, 0.18624877, 0.27666557, 0.36708238,\n",
       "        0.45749918, 0.54791598, 0.63833279, 0.72874959, 0.81916639,\n",
       "        0.9095832 , 1.        ]),\n",
       " <BarContainer object of 11 artists>)"
      ]
     },
     "execution_count": 17,
     "metadata": {},
     "output_type": "execute_result"
    },
    {
     "data": {
      "image/png": "[encoded data removed]",
      "text/plain": [
       "<Figure size 432x288 with 1 Axes>"
      ]
     },
     "metadata": {
      "needs_background": "light"
     },
     "output_type": "display_data"
    }
   ],
   "source": [
    "plt.hist(avg[avg['target_race'] != 0]['target_race'], bins=11)"
   ]
  },
  {
   "cell_type": "code",
   "execution_count": 18,
   "id": "d48400ff-89b6-4597-a414-6e9d18ba7b6e",
   "metadata": {},
   "outputs": [
    {
     "data": {
      "text/html": [
       "<div>\n",
       "<style scoped>\n",
       "    .dataframe tbody tr th:only-of-type {\n",
       "        vertical-align: middle;\n",
       "    }\n",
       "\n",
       "    .dataframe tbody tr th {\n",
       "        vertical-align: top;\n",
       "    }\n",
       "\n",
       "    .dataframe thead th {\n",
       "        text-align: right;\n",
       "    }\n",
       "</style>\n",
       "<table border=\"1\" class=\"dataframe\">\n",
       "  <thead>\n",
       "    <tr style=\"text-align: right;\">\n",
       "      <th></th>\n",
       "      <th>target_race</th>\n",
       "      <th>target_religion</th>\n",
       "      <th>target_origin</th>\n",
       "      <th>target_gender</th>\n",
       "      <th>target_sexuality</th>\n",
       "      <th>target_age</th>\n",
       "      <th>target_disability</th>\n",
       "      <th>target_politics</th>\n",
       "    </tr>\n",
       "    <tr>\n",
       "      <th>comment_id</th>\n",
       "      <th></th>\n",
       "      <th></th>\n",
       "      <th></th>\n",
       "      <th></th>\n",
       "      <th></th>\n",
       "      <th></th>\n",
       "      <th></th>\n",
       "      <th></th>\n",
       "    </tr>\n",
       "  </thead>\n",
       "  <tbody>\n",
       "    <tr>\n",
       "      <th>1</th>\n",
       "      <td>0.80</td>\n",
       "      <td>0.0</td>\n",
       "      <td>0.00</td>\n",
       "      <td>0.00</td>\n",
       "      <td>0.00</td>\n",
       "      <td>0.0</td>\n",
       "      <td>0.0</td>\n",
       "      <td>0.00</td>\n",
       "    </tr>\n",
       "    <tr>\n",
       "      <th>2</th>\n",
       "      <td>0.00</td>\n",
       "      <td>0.0</td>\n",
       "      <td>0.20</td>\n",
       "      <td>0.00</td>\n",
       "      <td>0.80</td>\n",
       "      <td>0.2</td>\n",
       "      <td>0.2</td>\n",
       "      <td>0.00</td>\n",
       "    </tr>\n",
       "    <tr>\n",
       "      <th>3</th>\n",
       "      <td>0.75</td>\n",
       "      <td>0.0</td>\n",
       "      <td>0.00</td>\n",
       "      <td>0.00</td>\n",
       "      <td>0.00</td>\n",
       "      <td>0.0</td>\n",
       "      <td>0.0</td>\n",
       "      <td>0.00</td>\n",
       "    </tr>\n",
       "    <tr>\n",
       "      <th>4</th>\n",
       "      <td>0.00</td>\n",
       "      <td>0.0</td>\n",
       "      <td>0.00</td>\n",
       "      <td>0.00</td>\n",
       "      <td>0.75</td>\n",
       "      <td>0.0</td>\n",
       "      <td>0.0</td>\n",
       "      <td>0.25</td>\n",
       "    </tr>\n",
       "    <tr>\n",
       "      <th>5</th>\n",
       "      <td>0.60</td>\n",
       "      <td>0.0</td>\n",
       "      <td>0.00</td>\n",
       "      <td>0.00</td>\n",
       "      <td>0.60</td>\n",
       "      <td>0.0</td>\n",
       "      <td>0.0</td>\n",
       "      <td>0.00</td>\n",
       "    </tr>\n",
       "    <tr>\n",
       "      <th>...</th>\n",
       "      <td>...</td>\n",
       "      <td>...</td>\n",
       "      <td>...</td>\n",
       "      <td>...</td>\n",
       "      <td>...</td>\n",
       "      <td>...</td>\n",
       "      <td>...</td>\n",
       "      <td>...</td>\n",
       "    </tr>\n",
       "    <tr>\n",
       "      <th>50066</th>\n",
       "      <td>0.25</td>\n",
       "      <td>0.0</td>\n",
       "      <td>0.75</td>\n",
       "      <td>0.00</td>\n",
       "      <td>0.00</td>\n",
       "      <td>0.0</td>\n",
       "      <td>0.0</td>\n",
       "      <td>0.00</td>\n",
       "    </tr>\n",
       "    <tr>\n",
       "      <th>50067</th>\n",
       "      <td>0.00</td>\n",
       "      <td>0.0</td>\n",
       "      <td>0.25</td>\n",
       "      <td>0.00</td>\n",
       "      <td>0.00</td>\n",
       "      <td>0.0</td>\n",
       "      <td>0.0</td>\n",
       "      <td>0.00</td>\n",
       "    </tr>\n",
       "    <tr>\n",
       "      <th>50068</th>\n",
       "      <td>0.00</td>\n",
       "      <td>0.0</td>\n",
       "      <td>0.50</td>\n",
       "      <td>0.50</td>\n",
       "      <td>0.00</td>\n",
       "      <td>0.0</td>\n",
       "      <td>0.0</td>\n",
       "      <td>0.00</td>\n",
       "    </tr>\n",
       "    <tr>\n",
       "      <th>50069</th>\n",
       "      <td>0.00</td>\n",
       "      <td>0.0</td>\n",
       "      <td>0.00</td>\n",
       "      <td>0.25</td>\n",
       "      <td>0.00</td>\n",
       "      <td>0.0</td>\n",
       "      <td>0.0</td>\n",
       "      <td>0.75</td>\n",
       "    </tr>\n",
       "    <tr>\n",
       "      <th>50070</th>\n",
       "      <td>0.00</td>\n",
       "      <td>0.0</td>\n",
       "      <td>0.00</td>\n",
       "      <td>0.80</td>\n",
       "      <td>0.00</td>\n",
       "      <td>0.0</td>\n",
       "      <td>0.0</td>\n",
       "      <td>0.00</td>\n",
       "    </tr>\n",
       "  </tbody>\n",
       "</table>\n",
       "<p>50070 rows × 8 columns</p>\n",
       "</div>"
      ],
      "text/plain": [
       "            target_race  target_religion  target_origin  target_gender  \\\n",
       "comment_id                                                               \n",
       "1                  0.80              0.0           0.00           0.00   \n",
       "2                  0.00              0.0           0.20           0.00   \n",
       "3                  0.75              0.0           0.00           0.00   \n",
       "4                  0.00              0.0           0.00           0.00   \n",
       "5                  0.60              0.0           0.00           0.00   \n",
       "...                 ...              ...            ...            ...   \n",
       "50066              0.25              0.0           0.75           0.00   \n",
       "50067              0.00              0.0           0.25           0.00   \n",
       "50068              0.00              0.0           0.50           0.50   \n",
       "50069              0.00              0.0           0.00           0.25   \n",
       "50070              0.00              0.0           0.00           0.80   \n",
       "\n",
       "            target_sexuality  target_age  target_disability  target_politics  \n",
       "comment_id                                                                    \n",
       "1                       0.00         0.0                0.0             0.00  \n",
       "2                       0.80         0.2                0.2             0.00  \n",
       "3                       0.00         0.0                0.0             0.00  \n",
       "4                       0.75         0.0                0.0             0.25  \n",
       "5                       0.60         0.0                0.0             0.00  \n",
       "...                      ...         ...                ...              ...  \n",
       "50066                   0.00         0.0                0.0             0.00  \n",
       "50067                   0.00         0.0                0.0             0.00  \n",
       "50068                   0.00         0.0                0.0             0.00  \n",
       "50069                   0.00         0.0                0.0             0.75  \n",
       "50070                   0.00         0.0                0.0             0.00  \n",
       "\n",
       "[50070 rows x 8 columns]"
      ]
     },
     "execution_count": 18,
     "metadata": {},
     "output_type": "execute_result"
    }
   ],
   "source": []
  },
  {
   "cell_type": "code",
   "execution_count": 7,
   "id": "11e51aaa-427e-4e7e-a6f7-c5103f314e61",
   "metadata": {},
   "outputs": [
    {
     "data": {
      "text/plain": [
       "['target_race',\n",
       " 'target_religion',\n",
       " 'target_origin',\n",
       " 'target_gender',\n",
       " 'target_sexuality',\n",
       " 'target_age',\n",
       " 'target_disability',\n",
       " 'target_politics']"
      ]
     },
     "execution_count": 7,
     "metadata": {},
     "output_type": "execute_result"
    }
   ],
   "source": [
    "[col for col in data.columns if ('target_' in col) and col.count('_') == 1]"
   ]
  },
  {
   "cell_type": "code",
   "execution_count": null,
   "id": "08cc2f6e-f5fd-4f7b-aa5f-77e092e89ee3",
   "metadata": {},
   "outputs": [],
   "source": []
  }
 ],
 "metadata": {
  "kernelspec": {
   "display_name": "hate",
   "language": "python",
   "name": "hate"
  },
  "language_info": {
   "codemirror_mode": {
    "name": "ipython",
    "version": 3
   },
   "file_extension": ".py",
   "mimetype": "text/x-python",
   "name": "python",
   "nbconvert_exporter": "python",
   "pygments_lexer": "ipython3",
   "version": "3.8.12"
  }
 },
 "nbformat": 4,
 "nbformat_minor": 5
}
