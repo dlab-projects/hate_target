{
 "cells": [
  {
   "cell_type": "code",
   "execution_count": null,
   "id": "apparent-shift",
   "metadata": {},
   "outputs": [],
   "source": [
    "import matplotlib.pyplot as plt\n",
    "import mpl_lego as mplego\n",
    "import numpy as np\n",
    "import pandas as pd\n",
    "import pickle\n",
    "import tensorflow as tf\n",
    "import transformers\n",
    "\n",
    "from pyprojroot import here\n",
    "from hate_measure import keys\n",
    "from hate_target import utils\n",
    "\n",
    "from sklearn.metrics import roc_auc_score, average_precision_score, f1_score\n",
    "from mpl_lego.labels import bold_text\n",
    "\n",
    "from hate_measure.nn.classifiers import TargetIdentityClassifier\n",
    "from hate_target import datasets\n",
    "\n",
    "%matplotlib inline"
   ]
  },
  {
   "cell_type": "code",
   "execution_count": null,
   "id": "direct-stick",
   "metadata": {},
   "outputs": [],
   "source": [
    "data_path = \"~/data/unfiltered_ratings.feather\"\n",
    "rater_quality_path = \"~/data/hatespeech/rater_quality_check.csv\"\n",
    "gab_path = \"~/data/gab_hate_corpus.tsv\""
   ]
  },
  {
   "cell_type": "code",
   "execution_count": null,
   "id": "handmade-savings",
   "metadata": {},
   "outputs": [],
   "source": [
    "gab = pd.read_csv(gab_path, delimiter='\\t')\n",
    "gab['IDL_POL'] = ((gab['IDL'] == 1) | (gab['POL'] == 1)).astype('int')\n",
    "gab = gab.rename({\n",
    "        'ID': 'comment_id',\n",
    "        'Annotator': 'labeler_id',\n",
    "        'Text': 'text',\n",
    "        'REL': 'target_religion',\n",
    "        'RAE': 'target_race',\n",
    "        'SXO': 'target_sexuality',\n",
    "        'GEN': 'target_gender',\n",
    "        'NAT': 'target_origin',\n",
    "        'IDL_POL': 'target_politics',\n",
    "        'MPH': 'target_disability'}, axis=1)\n",
    "\n",
    "target_cols = sorted([col for col in gab.columns if 'target' in col])\n",
    "gab = gab[~gab[target_cols].isna().any(axis=1)]"
   ]
  },
  {
   "cell_type": "code",
   "execution_count": null,
   "id": "material-positive",
   "metadata": {},
   "outputs": [],
   "source": [
    "targets = gab[['comment_id'] + target_cols]\n",
    "annotator_props = targets.fillna(0).groupby('comment_id').mean()\n",
    "is_target = (annotator_props >= 0.5).astype('int')\n",
    "data = is_target.merge(gab[['comment_id', 'text']].drop_duplicates('comment_id'), how='left', on='comment_id')"
   ]
  },
  {
   "cell_type": "code",
   "execution_count": null,
   "id": "frequent-atmosphere",
   "metadata": {},
   "outputs": [],
   "source": [
    "model_builder = TargetIdentityClassifier.build_model"
   ]
  },
  {
   "cell_type": "code",
   "execution_count": null,
   "id": "decimal-moore",
   "metadata": {},
   "outputs": [],
   "source": [
    "model_kwargs = {\n",
    "    'transformer': 'roberta-large',\n",
    "    'max_length': 247,\n",
    "    'n_dense': 256,\n",
    "    'dropout_rate': 0.05,\n",
    "    'pooling': 'mean',\n",
    "    'mask_pool': False\n",
    "}"
   ]
  },
  {
   "cell_type": "code",
   "execution_count": null,
   "id": "empty-blood",
   "metadata": {},
   "outputs": [],
   "source": [
    "model = model_builder(**model_kwargs)"
   ]
  },
  {
   "cell_type": "code",
   "execution_count": null,
   "id": "developing-ukraine",
   "metadata": {},
   "outputs": [],
   "source": [
    "model.load_weights('/home/psachdeva/experiments/target_identity/exp07/exp07a_model.h5')"
   ]
  },
  {
   "cell_type": "code",
   "execution_count": null,
   "id": "adverse-yemen",
   "metadata": {},
   "outputs": [],
   "source": [
    "tokenizer = transformers.RobertaTokenizer.from_pretrained(\"roberta-large\")\n",
    "tokens = tokenizer(data['text'].tolist(), return_tensors='np', max_length=247, truncation=True, padding='max_length')\n",
    "inputs = [tokens['input_ids'], tokens['attention_mask']]"
   ]
  },
  {
   "cell_type": "code",
   "execution_count": null,
   "id": "underlying-springfield",
   "metadata": {},
   "outputs": [],
   "source": [
    "outputs = model.predict(inputs, batch_size=256, verbose=1)"
   ]
  },
  {
   "cell_type": "code",
   "execution_count": null,
   "id": "played-warner",
   "metadata": {},
   "outputs": [],
   "source": [
    "y_preds = [output.ravel() for output in outputs[1:]]\n",
    "y_pred_hard = [(output.ravel() >= 0.5).astype('int') for output in outputs[1:]]"
   ]
  },
  {
   "cell_type": "code",
   "execution_count": null,
   "id": "rotary-skiing",
   "metadata": {},
   "outputs": [],
   "source": [
    "y_trues = [data['target_disability'].values,\n",
    "           data['target_gender'].values,\n",
    "           data['target_origin'].values,\n",
    "           data['target_politics'].values,\n",
    "           data['target_race'].values,\n",
    "           data['target_religion'].values,\n",
    "           data['target_sexuality'].values]"
   ]
  },
  {
   "cell_type": "code",
   "execution_count": null,
   "id": "literary-mention",
   "metadata": {},
   "outputs": [],
   "source": [
    "[(y_true == y_pred).mean() for (y_true, y_pred) in zip(y_trues, y_pred_hard)]"
   ]
  },
  {
   "cell_type": "code",
   "execution_count": null,
   "id": "ignored-monday",
   "metadata": {},
   "outputs": [],
   "source": [
    "[1 - y_true.mean() for (y_true, y_pred) in zip(y_trues, y_pred_hard)]"
   ]
  },
  {
   "cell_type": "code",
   "execution_count": null,
   "id": "boolean-friday",
   "metadata": {},
   "outputs": [],
   "source": [
    "[f1_score(y_true, y_pred) for (y_true, y_pred) in zip(y_trues, y_pred_hard)]"
   ]
  },
  {
   "cell_type": "code",
   "execution_count": null,
   "id": "funny-indonesian",
   "metadata": {},
   "outputs": [],
   "source": [
    "[roc_auc_score(y_true, y_pred) for (y_true, y_pred) in zip(y_trues, y_preds)]"
   ]
  },
  {
   "cell_type": "code",
   "execution_count": null,
   "id": "exterior-consent",
   "metadata": {},
   "outputs": [],
   "source": [
    "[average_precision_score(y_true, y_pred) for (y_true, y_pred) in zip(y_trues, y_preds)]"
   ]
  }
 ],
 "metadata": {
  "kernelspec": {
   "display_name": "hate",
   "language": "python",
   "name": "hate"
  },
  "language_info": {
   "codemirror_mode": {
    "name": "ipython",
    "version": 3
   },
   "file_extension": ".py",
   "mimetype": "text/x-python",
   "name": "python",
   "nbconvert_exporter": "python",
   "pygments_lexer": "ipython3",
   "version": "3.7.10"
  }
 },
 "nbformat": 4,
 "nbformat_minor": 5
}
