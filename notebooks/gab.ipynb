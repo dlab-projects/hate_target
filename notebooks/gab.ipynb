{
 "cells": [
  {
   "cell_type": "code",
   "execution_count": null,
   "id": "0d6c20bc-5e75-40e6-b091-f26a4a0bceff",
   "metadata": {},
   "outputs": [],
   "source": [
    "import matplotlib.pyplot as plt\n",
    "import mpl_lego as mplego\n",
    "import numpy as np\n",
    "import pandas as pd\n",
    "import pickle\n",
    "import tensorflow as tf\n",
    "import transformers\n",
    "\n",
    "from pyprojroot import here\n",
    "from hate_target import keys\n",
    "from hate_target import utils\n",
    "\n",
    "from sklearn.metrics import roc_auc_score, average_precision_score\n",
    "from mpl_lego.labels import bold_text\n",
    "\n",
    "from hate_measure.nn.classifiers import TargetIdentityClassifier\n",
    "from hate_target import datasets\n",
    "\n",
    "%matplotlib inline"
   ]
  },
  {
   "cell_type": "code",
   "execution_count": null,
   "id": "6a6e3cf6-b04c-46a2-9c90-8e24326324a8",
   "metadata": {},
   "outputs": [],
   "source": [
    "data_path = \"~/data/hatespeech/unfiltered_ratings.feather\"\n",
    "rater_quality_path = \"~/data/hatespeech/rater_quality_check.csv\"\n",
    "gab_path = \"~/data/hatespeech/gab/gab_hate_corpus.tsv\""
   ]
  },
  {
   "cell_type": "code",
   "execution_count": null,
   "id": "a87e8c2b-6727-49de-99aa-e30aa209760c",
   "metadata": {},
   "outputs": [],
   "source": [
    "gab, gab_target = datasets.load_gab_hate_corpus(\n",
    "    path=gab_path,\n",
    "    merge_idl_pol=True,\n",
    "    fillna=False,\n",
    "    threshold=0.5)"
   ]
  },
  {
   "cell_type": "code",
   "execution_count": null,
   "id": "8c31d131-eb9c-464e-8e40-b52eef0965ac",
   "metadata": {},
   "outputs": [],
   "source": [
    "data, x, y_hard, y_soft = datasets.load_measuring_hate_groups(data_path, rater_quality_path=rater_quality_path)"
   ]
  },
  {
   "cell_type": "code",
   "execution_count": null,
   "id": "fe79b9c0-6fb9-40fb-8353-ccfc73ca3769",
   "metadata": {},
   "outputs": [],
   "source": [
    "p_train = [y.mean() for y in y_hard]"
   ]
  },
  {
   "cell_type": "code",
   "execution_count": null,
   "id": "3c07ecc4-e28d-4d24-a326-08ece83db1de",
   "metadata": {},
   "outputs": [],
   "source": [
    "model_builder = TargetIdentityClassifier.build_model"
   ]
  },
  {
   "cell_type": "code",
   "execution_count": null,
   "id": "02d4f3e0-0c80-4724-9325-dc45fe1e0256",
   "metadata": {},
   "outputs": [],
   "source": [
    "model_kwargs = {\n",
    "    'transformer': 'roberta-base',\n",
    "    'max_length': 247,\n",
    "    'n_dense': 256,\n",
    "    'dropout_rate': 0.05,\n",
    "    'pooling': 'mean',\n",
    "    'mask_pool': False\n",
    "}"
   ]
  },
  {
   "cell_type": "code",
   "execution_count": null,
   "id": "e5797e2e-23d6-4309-a7f4-6c82226c7f2b",
   "metadata": {},
   "outputs": [],
   "source": [
    "model = model_builder(**model_kwargs)"
   ]
  },
  {
   "cell_type": "code",
   "execution_count": null,
   "id": "a897a7ce-84ac-46f0-8373-976c8c58f58b",
   "metadata": {},
   "outputs": [],
   "source": [
    "model.save_weights('test.h5')"
   ]
  },
  {
   "cell_type": "code",
   "execution_count": null,
   "id": "2826a57e-711d-4f5b-8e1c-4ffe71ded979",
   "metadata": {},
   "outputs": [],
   "source": [
    "model.load_weights('test.h5')"
   ]
  },
  {
   "cell_type": "code",
   "execution_count": null,
   "id": "c1a3bcaa-7f5c-4850-b0e4-b782cd6f0028",
   "metadata": {},
   "outputs": [],
   "source": [
    "model.load_weights(here('experiments/exp06a_model.h5'))"
   ]
  },
  {
   "cell_type": "code",
   "execution_count": null,
   "id": "5c26b136-7d75-4454-a2c0-6751f08b55c2",
   "metadata": {},
   "outputs": [],
   "source": []
  }
 ],
 "metadata": {
  "kernelspec": {
   "display_name": "hate",
   "language": "python",
   "name": "hate"
  },
  "language_info": {
   "codemirror_mode": {
    "name": "ipython",
    "version": 3
   },
   "file_extension": ".py",
   "mimetype": "text/x-python",
   "name": "python",
   "nbconvert_exporter": "python",
   "pygments_lexer": "ipython3",
   "version": "3.8.12"
  }
 },
 "nbformat": 4,
 "nbformat_minor": 5
}
