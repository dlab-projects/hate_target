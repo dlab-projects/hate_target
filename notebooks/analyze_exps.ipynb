{
 "cells": [
  {
   "cell_type": "code",
   "execution_count": null,
   "id": "3c03f77e-3caf-43ea-824a-ce3f74d067a6",
   "metadata": {},
   "outputs": [],
   "source": [
    "import matplotlib.pyplot as plt\n",
    "import mpl_lego as mplego\n",
    "import numpy as np\n",
    "import pandas as pd\n",
    "import pickle\n",
    "\n",
    "from pyprojroot import here\n",
    "from hate_target import keys\n",
    "from hate_target import utils\n",
    "\n",
    "%matplotlib inline"
   ]
  },
  {
   "cell_type": "code",
   "execution_count": null,
   "id": "53a2d4c7-83e8-4ff0-86fb-17d802772ead",
   "metadata": {},
   "outputs": [],
   "source": [
    "print('Experiment 01a')\n",
    "print('--------------')\n",
    "exp01a = utils.analyze_experiment(here('experiments/exp01a.pkl'), verbose=True)"
   ]
  },
  {
   "cell_type": "code",
   "execution_count": null,
   "id": "d1dc2a16-b867-4a32-83e0-981826e5478d",
   "metadata": {},
   "outputs": [],
   "source": [
    "print('Experiment 01b')\n",
    "print('--------------')\n",
    "exp01b = utils.analyze_experiment(here('experiments/exp01b.pkl'), verbose=True)"
   ]
  },
  {
   "cell_type": "code",
   "execution_count": null,
   "id": "f254936e-13d5-4524-bd04-35551c9f98a0",
   "metadata": {},
   "outputs": [],
   "source": [
    "print('Experiment 01c')\n",
    "print('--------------')\n",
    "exp01c = utils.analyze_experiment(here('experiments/exp01c.pkl'), verbose=True)"
   ]
  },
  {
   "cell_type": "code",
   "execution_count": null,
   "id": "eef46e8f-3718-4732-90e6-9b769e84e6f7",
   "metadata": {},
   "outputs": [],
   "source": [
    "print('Experiment 01d')\n",
    "print('--------------')\n",
    "exp01d = utils.analyze_experiment(here('experiments/exp01d.pkl'), verbose=True)"
   ]
  },
  {
   "cell_type": "code",
   "execution_count": null,
   "id": "1bfe0d87-d16f-4a19-8b29-e0354cf65e3b",
   "metadata": {},
   "outputs": [],
   "source": [
    "print('Experiment 01e')\n",
    "print('--------------')\n",
    "exp01e = utils.analyze_experiment(here('experiments/exp01e.pkl'), verbose=True)"
   ]
  },
  {
   "cell_type": "code",
   "execution_count": null,
   "id": "6d18e667-f31c-4c65-a1e1-163f3fb629f8",
   "metadata": {},
   "outputs": [],
   "source": [
    "print('Experiment 01f')\n",
    "print('--------------')\n",
    "exp01f = utils.analyze_experiment(here('experiments/exp01f.pkl'), verbose=True)"
   ]
  },
  {
   "cell_type": "code",
   "execution_count": null,
   "id": "5ba0ef0e-94f2-4a65-9699-48b30ff3ba22",
   "metadata": {},
   "outputs": [],
   "source": [
    "print('Experiment 01g')\n",
    "print('--------------')\n",
    "exp01g = utils.analyze_experiment(here('experiments/exp01g.pkl'), verbose=True)"
   ]
  },
  {
   "cell_type": "code",
   "execution_count": null,
   "id": "97131e86-5a22-45eb-8ea8-e4d85178e154",
   "metadata": {},
   "outputs": [],
   "source": [
    "print('Experiment 01h')\n",
    "print('--------------')\n",
    "exp01g = utils.analyze_experiment(here('experiments/exp01h.pkl'), soft=True, verbose=True)"
   ]
  },
  {
   "cell_type": "code",
   "execution_count": null,
   "id": "ab06c5ee-cead-4872-ab71-efbf3eb0af47",
   "metadata": {},
   "outputs": [],
   "source": [
    "print('Experiment 02a')\n",
    "print('--------------')\n",
    "exp02a = utils.analyze_experiment(here('experiments/exp02a.pkl'), verbose=True)"
   ]
  },
  {
   "cell_type": "code",
   "execution_count": null,
   "id": "8ab1e915-df9f-414e-ad54-8b19e4b902c6",
   "metadata": {},
   "outputs": [],
   "source": [
    "print('Experiment 02b')\n",
    "print('--------------')\n",
    "exp02a = utils.analyze_experiment(here('experiments/exp02b.pkl'), verbose=True)"
   ]
  },
  {
   "cell_type": "code",
   "execution_count": null,
   "id": "49c566f6-df37-4e04-bb3d-551e53034120",
   "metadata": {},
   "outputs": [],
   "source": [
    "print('Experiment 02c')\n",
    "print('--------------')\n",
    "exp02a = utils.analyze_experiment(here('experiments/exp02c.pkl'), soft=True, verbose=True)"
   ]
  },
  {
   "cell_type": "code",
   "execution_count": null,
   "id": "632fda03-9df2-44c0-88b4-bbbc329ae96a",
   "metadata": {},
   "outputs": [],
   "source": [
    "print('Experiment 03a')\n",
    "print('--------------')\n",
    "exp03a = utils.analyze_experiment(here('experiments/exp03a.pkl'), verbose=True)"
   ]
  },
  {
   "cell_type": "code",
   "execution_count": null,
   "id": "1995f3b4-f96a-447f-a2ab-b32b710f77d7",
   "metadata": {},
   "outputs": [],
   "source": [
    "print('Experiment 03b')\n",
    "print('--------------')\n",
    "exp03a = utils.analyze_experiment(here('experiments/exp03b.pkl'), verbose=True)"
   ]
  },
  {
   "cell_type": "code",
   "execution_count": null,
   "id": "3f52b8a7-5e5a-48a5-be88-5726a7afa111",
   "metadata": {},
   "outputs": [],
   "source": [
    "print('Experiment 04a')\n",
    "print('--------------')\n",
    "exp04a = utils.analyze_experiment(here('experiments/exp04a.pkl'), verbose=True)"
   ]
  },
  {
   "cell_type": "code",
   "execution_count": null,
   "id": "95f1d501-f920-4a4e-9b58-2d1899d3b8d8",
   "metadata": {},
   "outputs": [],
   "source": [
    "print('Experiment 04b')\n",
    "print('--------------')\n",
    "exp04b = utils.analyze_experiment(here('experiments/exp04b.pkl'), verbose=True)"
   ]
  },
  {
   "cell_type": "code",
   "execution_count": null,
   "id": "f88faaae-579c-457c-9f41-d9d495ce670c",
   "metadata": {},
   "outputs": [],
   "source": [
    "print('Experiment 04c')\n",
    "print('--------------')\n",
    "exp04b = utils.analyze_experiment(here('experiments/exp04c.pkl'), verbose=True)"
   ]
  },
  {
   "cell_type": "code",
   "execution_count": null,
   "id": "77023cfd-1d87-494c-863c-9650bfa605be",
   "metadata": {},
   "outputs": [],
   "source": [
    "print('Experiment 04c')\n",
    "print('--------------')\n",
    "exp04b = utils.analyze_experiment(here('experiments/exp04d.pkl'), verbose=True)"
   ]
  },
  {
   "cell_type": "code",
   "execution_count": null,
   "id": "71f81f53-0449-45d3-9ca7-578ef43a2eab",
   "metadata": {},
   "outputs": [],
   "source": [
    "print('Experiment 04e')\n",
    "print('--------------')\n",
    "exp04e = utils.analyze_experiment(here('experiments/exp04e.pkl'), soft=True, verbose=True)"
   ]
  },
  {
   "cell_type": "code",
   "execution_count": null,
   "id": "82e67da6-43a3-4915-858e-596a9f73032a",
   "metadata": {},
   "outputs": [],
   "source": [
    "print('Experiment 04f')\n",
    "print('--------------')\n",
    "exp04f = utils.analyze_experiment(here('experiments/exp04f.pkl'), soft=True, verbose=True)"
   ]
  },
  {
   "cell_type": "code",
   "execution_count": null,
   "id": "67e2aaf3-90f2-455b-8079-4a29174bfa5e",
   "metadata": {},
   "outputs": [],
   "source": [
    "print('Experiment 05a')\n",
    "print('--------------')\n",
    "exp_race = utils.analyze_experiment(here('experiments/exp05a.pkl'), verbose=True)"
   ]
  },
  {
   "cell_type": "code",
   "execution_count": null,
   "id": "5254e8e1-d623-48d3-93fa-87d81b3516c3",
   "metadata": {},
   "outputs": [],
   "source": [
    "print('Experiment 05b')\n",
    "print('--------------')\n",
    "exp_race = utils.analyze_experiment(here('experiments/exp05b.pkl'), verbose=True)"
   ]
  },
  {
   "cell_type": "code",
   "execution_count": null,
   "id": "00c77b81-09c7-45c9-8af5-95df5f075627",
   "metadata": {},
   "outputs": [],
   "source": [
    "print('Experiment 05c')\n",
    "print('--------------')\n",
    "exp_race = utils.analyze_experiment(here('experiments/exp05c.pkl'), verbose=True)"
   ]
  },
  {
   "cell_type": "code",
   "execution_count": null,
   "id": "6729278e-250c-417b-9ed1-fdd15d6e8e56",
   "metadata": {},
   "outputs": [],
   "source": [
    "print('Experiment 05d')\n",
    "print('--------------')\n",
    "exp_race = utils.analyze_experiment(here('experiments/exp05d.pkl'), soft=True, verbose=True)"
   ]
  },
  {
   "cell_type": "code",
   "execution_count": null,
   "id": "8b451a72-cb0a-494b-87cc-e684da8ebcf5",
   "metadata": {},
   "outputs": [],
   "source": [
    "print('Experiment 05e')\n",
    "print('--------------')\n",
    "exp_race = utils.analyze_experiment(here('experiments/exp05e.pkl'), soft=True, verbose=True)"
   ]
  },
  {
   "cell_type": "code",
   "execution_count": null,
   "id": "00e58dda-efd0-44f3-8678-07110d82b29a",
   "metadata": {},
   "outputs": [],
   "source": [
    "print('Experiment 05f')\n",
    "print('--------------')\n",
    "exp_race = utils.analyze_experiment(here('experiments/exp05f.pkl'), soft=True, verbose=True)"
   ]
  },
  {
   "cell_type": "code",
   "execution_count": null,
   "id": "8144755c-5284-469c-8d1c-57ce71271be8",
   "metadata": {},
   "outputs": [],
   "source": [
    "print('Experiment 06a')\n",
    "print('--------------')\n",
    "exp06a = utils.analyze_experiment(here('experiments/exp06a.pkl'), soft=True, verbose=True)"
   ]
  },
  {
   "cell_type": "code",
   "execution_count": null,
   "id": "77dde2d6-165f-4b55-9d9c-48c03cb54f42",
   "metadata": {},
   "outputs": [],
   "source": [
    "print('Experiment 07a')\n",
    "print('--------------')\n",
    "exp07a = utils.analyze_experiment(here('experiments/exp07a.pkl'), soft=True, verbose=True)"
   ]
  },
  {
   "cell_type": "code",
   "execution_count": null,
   "id": "4cf5c547-ebd7-4e13-8bd8-25c557449f18",
   "metadata": {},
   "outputs": [],
   "source": [
    "print('Experiment Gender 01e')\n",
    "print('----------------------')\n",
    "exp07a = utils.analyze_experiment(here('experiments/subgroups/gender_exp01e.pkl'), soft=True, verbose=True)"
   ]
  },
  {
   "cell_type": "code",
   "execution_count": null,
   "id": "ac414677-f821-45aa-969a-1864abd3c917",
   "metadata": {},
   "outputs": [],
   "source": [
    "print('Experiment Race 01e')\n",
    "print('-------------------')\n",
    "exp07a = utils.analyze_experiment(here('experiments/subgroups/race_exp01e.pkl'), soft=True, verbose=True)"
   ]
  }
 ],
 "metadata": {
  "kernelspec": {
   "display_name": "hate",
   "language": "python",
   "name": "hate"
  },
  "language_info": {
   "codemirror_mode": {
    "name": "ipython",
    "version": 3
   },
   "file_extension": ".py",
   "mimetype": "text/x-python",
   "name": "python",
   "nbconvert_exporter": "python",
   "pygments_lexer": "ipython3",
   "version": "3.8.12"
  }
 },
 "nbformat": 4,
 "nbformat_minor": 5
}
