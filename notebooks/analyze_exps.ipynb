{
 "cells": [
  {
   "cell_type": "code",
   "execution_count": 2,
   "id": "3c03f77e-3caf-43ea-824a-ce3f74d067a6",
   "metadata": {},
   "outputs": [],
   "source": [
    "import matplotlib.pyplot as plt\n",
    "import mpl_lego as mplego\n",
    "import numpy as np\n",
    "import pandas as pd\n",
    "import pickle\n",
    "\n",
    "from pyprojroot import here\n",
    "from hate_target import keys\n",
    "from hate_target import utils\n",
    "\n",
    "%matplotlib inline"
   ]
  },
  {
   "cell_type": "code",
   "execution_count": 3,
   "id": "53a2d4c7-83e8-4ff0-86fb-17d802772ead",
   "metadata": {},
   "outputs": [
    {
     "name": "stdout",
     "output_type": "stream",
     "text": [
      "Experiment 01a\n",
      "--------------\n",
      "Overall loss: 1.0911\n",
      "Label loss: 0.1364\n",
      "Accuracy by chance: 1.1302\n",
      "Log-odds difference: 1.13\n",
      "ROC AUC: 0.9379\n",
      "PR AUC: 0.6097\n"
     ]
    }
   ],
   "source": [
    "print('Experiment 01a')\n",
    "print('--------------')\n",
    "exp01a = utils.analyze_experiment(here('experiments/exp01a.pkl'), verbose=True)"
   ]
  },
  {
   "cell_type": "code",
   "execution_count": 4,
   "id": "d1dc2a16-b867-4a32-83e0-981826e5478d",
   "metadata": {},
   "outputs": [
    {
     "name": "stdout",
     "output_type": "stream",
     "text": [
      "Experiment 01b\n",
      "--------------\n",
      "Overall loss: 1.0906\n",
      "Label loss: 0.1363\n",
      "Accuracy by chance: 1.1301\n",
      "Log-odds difference: 1.137\n",
      "ROC AUC: 0.9377\n",
      "PR AUC: 0.6069\n"
     ]
    }
   ],
   "source": [
    "print('Experiment 01b')\n",
    "print('--------------')\n",
    "exp01b = utils.analyze_experiment(here('experiments/exp01b.pkl'), verbose=True)"
   ]
  },
  {
   "cell_type": "code",
   "execution_count": 5,
   "id": "f254936e-13d5-4524-bd04-35551c9f98a0",
   "metadata": {},
   "outputs": [
    {
     "name": "stdout",
     "output_type": "stream",
     "text": [
      "Experiment 01c\n",
      "--------------\n",
      "Overall loss: 1.0941\n",
      "Label loss: 0.1368\n",
      "Accuracy by chance: 1.1297\n",
      "Log-odds difference: 1.126\n",
      "ROC AUC: 0.9370\n",
      "PR AUC: 0.6068\n"
     ]
    }
   ],
   "source": [
    "print('Experiment 01c')\n",
    "print('--------------')\n",
    "exp01c = utils.analyze_experiment(here('experiments/exp01c.pkl'), verbose=True)"
   ]
  },
  {
   "cell_type": "code",
   "execution_count": 6,
   "id": "eef46e8f-3718-4732-90e6-9b769e84e6f7",
   "metadata": {},
   "outputs": [
    {
     "name": "stdout",
     "output_type": "stream",
     "text": [
      "Experiment 01d\n",
      "--------------\n",
      "Overall loss: 1.0939\n",
      "Label loss: 0.1367\n",
      "Accuracy by chance: 1.1300\n",
      "Log-odds difference: 1.129\n",
      "ROC AUC: 0.9372\n",
      "PR AUC: 0.6073\n"
     ]
    }
   ],
   "source": [
    "print('Experiment 01d')\n",
    "print('--------------')\n",
    "exp01d = utils.analyze_experiment(here('experiments/exp01d.pkl'), verbose=True)"
   ]
  },
  {
   "cell_type": "code",
   "execution_count": 7,
   "id": "1bfe0d87-d16f-4a19-8b29-e0354cf65e3b",
   "metadata": {},
   "outputs": [
    {
     "name": "stdout",
     "output_type": "stream",
     "text": [
      "Experiment 01e\n",
      "--------------\n",
      "Overall loss: 1.0931\n",
      "Label loss: 0.1366\n",
      "Accuracy by chance: 1.1300\n",
      "Log-odds difference: 1.129\n",
      "ROC AUC: 0.9378\n",
      "PR AUC: 0.6085\n"
     ]
    }
   ],
   "source": [
    "print('Experiment 01e')\n",
    "print('--------------')\n",
    "exp01e = utils.analyze_experiment(here('experiments/exp01e.pkl'), verbose=True)"
   ]
  },
  {
   "cell_type": "code",
   "execution_count": 8,
   "id": "6d18e667-f31c-4c65-a1e1-163f3fb629f8",
   "metadata": {},
   "outputs": [
    {
     "name": "stdout",
     "output_type": "stream",
     "text": [
      "Experiment 01f\n",
      "--------------\n",
      "Overall loss: 1.0868\n",
      "Label loss: 0.1358\n",
      "Accuracy by chance: 1.1303\n",
      "Log-odds difference: 1.134\n",
      "ROC AUC: 0.9386\n",
      "PR AUC: 0.6099\n"
     ]
    }
   ],
   "source": [
    "print('Experiment 01f')\n",
    "print('--------------')\n",
    "exp01f = utils.analyze_experiment(here('experiments/exp01f.pkl'), verbose=True)"
   ]
  },
  {
   "cell_type": "code",
   "execution_count": 9,
   "id": "5ba0ef0e-94f2-4a65-9699-48b30ff3ba22",
   "metadata": {},
   "outputs": [
    {
     "name": "stdout",
     "output_type": "stream",
     "text": [
      "Experiment 01g\n",
      "--------------\n",
      "Overall loss: 1.0928\n",
      "Label loss: 0.1366\n",
      "Accuracy by chance: 1.1300\n",
      "Log-odds difference: 1.131\n",
      "ROC AUC: 0.9380\n",
      "PR AUC: 0.6073\n"
     ]
    }
   ],
   "source": [
    "print('Experiment 01g')\n",
    "print('--------------')\n",
    "exp01g = utils.analyze_experiment(here('experiments/exp01g.pkl'), verbose=True)"
   ]
  },
  {
   "cell_type": "code",
   "execution_count": 10,
   "id": "97131e86-5a22-45eb-8ea8-e4d85178e154",
   "metadata": {},
   "outputs": [
    {
     "name": "stdout",
     "output_type": "stream",
     "text": [
      "Experiment 01h\n",
      "--------------\n",
      "Overall loss: 1.5294\n",
      "Label loss: 0.1912\n",
      "Accuracy by chance: 1.1275\n",
      "Log-odds difference: 1.099\n",
      "ROC AUC: 0.9415\n",
      "PR AUC: 0.6152\n"
     ]
    }
   ],
   "source": [
    "print('Experiment 01h')\n",
    "print('--------------')\n",
    "exp01g = utils.analyze_experiment(here('experiments/exp01h.pkl'), soft=True, verbose=True)"
   ]
  },
  {
   "cell_type": "code",
   "execution_count": 11,
   "id": "ab06c5ee-cead-4872-ab71-efbf3eb0af47",
   "metadata": {},
   "outputs": [
    {
     "name": "stdout",
     "output_type": "stream",
     "text": [
      "Experiment 02a\n",
      "--------------\n",
      "Overall loss: 1.0389\n",
      "Label loss: 0.1299\n",
      "Accuracy by chance: 1.1329\n",
      "Log-odds difference: 1.18\n",
      "ROC AUC: 0.9456\n",
      "PR AUC: 0.6398\n"
     ]
    }
   ],
   "source": [
    "print('Experiment 02a')\n",
    "print('--------------')\n",
    "exp02a = utils.analyze_experiment(here('experiments/exp02a.pkl'), verbose=True)"
   ]
  },
  {
   "cell_type": "code",
   "execution_count": 12,
   "id": "8ab1e915-df9f-414e-ad54-8b19e4b902c6",
   "metadata": {},
   "outputs": [
    {
     "name": "stdout",
     "output_type": "stream",
     "text": [
      "Experiment 02b\n",
      "--------------\n",
      "Overall loss: 1.0374\n",
      "Label loss: 0.1297\n",
      "Accuracy by chance: 1.1331\n",
      "Log-odds difference: 1.184\n",
      "ROC AUC: 0.9458\n",
      "PR AUC: 0.6392\n"
     ]
    }
   ],
   "source": [
    "print('Experiment 02b')\n",
    "print('--------------')\n",
    "exp02a = utils.analyze_experiment(here('experiments/exp02b.pkl'), verbose=True)"
   ]
  },
  {
   "cell_type": "code",
   "execution_count": 13,
   "id": "49c566f6-df37-4e04-bb3d-551e53034120",
   "metadata": {},
   "outputs": [
    {
     "name": "stdout",
     "output_type": "stream",
     "text": [
      "Experiment 02c\n",
      "--------------\n",
      "Overall loss: 1.4949\n",
      "Label loss: 0.1869\n",
      "Accuracy by chance: 1.1302\n",
      "Log-odds difference: 1.142\n",
      "ROC AUC: 0.9490\n",
      "PR AUC: 0.6452\n"
     ]
    }
   ],
   "source": [
    "print('Experiment 02c')\n",
    "print('--------------')\n",
    "exp02a = utils.analyze_experiment(here('experiments/exp02c.pkl'), soft=True, verbose=True)"
   ]
  },
  {
   "cell_type": "code",
   "execution_count": 14,
   "id": "632fda03-9df2-44c0-88b4-bbbc329ae96a",
   "metadata": {},
   "outputs": [
    {
     "name": "stdout",
     "output_type": "stream",
     "text": [
      "Experiment 03a\n",
      "--------------\n",
      "Overall loss: 1.0396\n",
      "Label loss: 0.1299\n",
      "Accuracy by chance: 1.1351\n",
      "Log-odds difference: 1.179\n",
      "ROC AUC: 0.9424\n",
      "PR AUC: 0.6467\n"
     ]
    }
   ],
   "source": [
    "print('Experiment 03a')\n",
    "print('--------------')\n",
    "exp03a = utils.analyze_experiment(here('experiments/exp03a.pkl'), verbose=True)"
   ]
  },
  {
   "cell_type": "code",
   "execution_count": 13,
   "id": "1995f3b4-f96a-447f-a2ab-b32b710f77d7",
   "metadata": {},
   "outputs": [
    {
     "name": "stdout",
     "output_type": "stream",
     "text": [
      "Experiment 03b\n",
      "--------------\n",
      "Overall loss: 1.0280\n",
      "Label loss: 0.1285\n",
      "Accuracy by chance: 1.1358\n",
      "Log-odds difference: 1.203\n",
      "ROC AUC: 0.9396\n",
      "PR AUC: 0.6496\n"
     ]
    }
   ],
   "source": [
    "print('Experiment 03b')\n",
    "print('--------------')\n",
    "exp03a = utils.analyze_experiment(here('experiments/exp03b.pkl'), verbose=True)"
   ]
  },
  {
   "cell_type": "code",
   "execution_count": 15,
   "id": "3f52b8a7-5e5a-48a5-be88-5726a7afa111",
   "metadata": {},
   "outputs": [
    {
     "name": "stdout",
     "output_type": "stream",
     "text": [
      "Experiment 04a\n",
      "--------------\n",
      "Overall loss: 1.0162\n",
      "Label loss: 0.1270\n",
      "Accuracy by chance: 1.1365\n",
      "Log-odds difference: 1.215\n",
      "ROC AUC: 0.9424\n",
      "PR AUC: 0.6671\n"
     ]
    }
   ],
   "source": [
    "print('Experiment 04a')\n",
    "print('--------------')\n",
    "exp04a = utils.analyze_experiment(here('experiments/exp04a.pkl'), verbose=True)"
   ]
  },
  {
   "cell_type": "code",
   "execution_count": 18,
   "id": "95f1d501-f920-4a4e-9b58-2d1899d3b8d8",
   "metadata": {},
   "outputs": [
    {
     "name": "stdout",
     "output_type": "stream",
     "text": [
      "Experiment 04b\n",
      "--------------\n",
      "Overall loss: 1.0082\n",
      "Label loss: 0.1260\n",
      "Accuracy by chance: 1.1374\n",
      "Log-odds difference: 1.23\n",
      "ROC AUC: 0.9441\n",
      "PR AUC: 0.6678\n"
     ]
    }
   ],
   "source": [
    "print('Experiment 04b')\n",
    "print('--------------')\n",
    "exp04b = utils.analyze_experiment(here('experiments/exp04b.pkl'), verbose=True)"
   ]
  },
  {
   "cell_type": "code",
   "execution_count": 3,
   "id": "f88faaae-579c-457c-9f41-d9d495ce670c",
   "metadata": {},
   "outputs": [
    {
     "name": "stdout",
     "output_type": "stream",
     "text": [
      "Experiment 04c\n",
      "--------------\n",
      "Overall loss: 1.0114\n",
      "Label loss: 0.1264\n",
      "Accuracy by chance: 1.1367\n",
      "Log-odds difference: 1.222\n",
      "ROC AUC: 0.9445\n",
      "PR AUC: 0.6668\n"
     ]
    }
   ],
   "source": [
    "print('Experiment 04c')\n",
    "print('--------------')\n",
    "exp04b = utils.analyze_experiment(here('experiments/exp04c.pkl'), verbose=True)"
   ]
  },
  {
   "cell_type": "code",
   "execution_count": 2,
   "id": "77023cfd-1d87-494c-863c-9650bfa605be",
   "metadata": {},
   "outputs": [
    {
     "name": "stdout",
     "output_type": "stream",
     "text": [
      "Experiment 04c\n",
      "--------------\n",
      "Overall loss: 1.0120\n",
      "Label loss: 0.1265\n",
      "Accuracy by chance: 1.1369\n",
      "Log-odds difference: 1.219\n",
      "ROC AUC: 0.9420\n",
      "PR AUC: 0.6572\n"
     ]
    }
   ],
   "source": [
    "print('Experiment 04c')\n",
    "print('--------------')\n",
    "exp04b = utils.analyze_experiment(here('experiments/exp04d.pkl'), verbose=True)"
   ]
  },
  {
   "cell_type": "code",
   "execution_count": 3,
   "id": "71f81f53-0449-45d3-9ca7-578ef43a2eab",
   "metadata": {},
   "outputs": [
    {
     "name": "stdout",
     "output_type": "stream",
     "text": [
      "Experiment 04e\n",
      "--------------\n",
      "Overall loss: 1.4657\n",
      "Label loss: 0.1832\n",
      "Accuracy by chance: 1.1380\n",
      "Log-odds difference: 1.243\n",
      "ROC AUC: 0.9522\n",
      "PR AUC: 0.6806\n"
     ]
    }
   ],
   "source": [
    "print('Experiment 04e')\n",
    "print('--------------')\n",
    "exp04e = utils.analyze_experiment(here('experiments/exp04e.pkl'), soft=True, verbose=True)"
   ]
  },
  {
   "cell_type": "code",
   "execution_count": 5,
   "id": "82e67da6-43a3-4915-858e-596a9f73032a",
   "metadata": {},
   "outputs": [
    {
     "name": "stdout",
     "output_type": "stream",
     "text": [
      "Experiment 04f\n",
      "--------------\n",
      "Overall loss: 1.4596\n",
      "Label loss: 0.1825\n",
      "Accuracy by chance: 1.1386\n",
      "Log-odds difference: 1.259\n",
      "ROC AUC: 0.9523\n",
      "PR AUC: 0.6821\n"
     ]
    }
   ],
   "source": [
    "print('Experiment 04f')\n",
    "print('--------------')\n",
    "exp04f = utils.analyze_experiment(here('experiments/exp04f.pkl'), soft=True, verbose=True)"
   ]
  },
  {
   "cell_type": "code",
   "execution_count": 2,
   "id": "67e2aaf3-90f2-455b-8079-4a29174bfa5e",
   "metadata": {},
   "outputs": [
    {
     "name": "stdout",
     "output_type": "stream",
     "text": [
      "Experiment 05a\n",
      "--------------\n",
      "Overall loss: 1.0164\n",
      "Label loss: 0.1270\n",
      "Accuracy by chance: 1.1370\n",
      "Log-odds difference: 1.207\n",
      "ROC AUC: 0.9461\n",
      "PR AUC: 0.6611\n"
     ]
    }
   ],
   "source": [
    "print('Experiment 05a')\n",
    "print('--------------')\n",
    "exp_race = utils.analyze_experiment(here('experiments/exp05a.pkl'), verbose=True)"
   ]
  },
  {
   "cell_type": "code",
   "execution_count": 3,
   "id": "5254e8e1-d623-48d3-93fa-87d81b3516c3",
   "metadata": {},
   "outputs": [
    {
     "name": "stdout",
     "output_type": "stream",
     "text": [
      "Experiment 05b\n",
      "--------------\n",
      "Overall loss: 1.0118\n",
      "Label loss: 0.1265\n",
      "Accuracy by chance: 1.1369\n",
      "Log-odds difference: 1.202\n",
      "ROC AUC: 0.9465\n",
      "PR AUC: 0.6598\n"
     ]
    }
   ],
   "source": [
    "print('Experiment 05b')\n",
    "print('--------------')\n",
    "exp_race = utils.analyze_experiment(here('experiments/exp05b.pkl'), verbose=True)"
   ]
  },
  {
   "cell_type": "code",
   "execution_count": 4,
   "id": "00c77b81-09c7-45c9-8af5-95df5f075627",
   "metadata": {},
   "outputs": [
    {
     "name": "stdout",
     "output_type": "stream",
     "text": [
      "Experiment 05c\n",
      "--------------\n",
      "Overall loss: 1.5556\n",
      "Label loss: 0.1945\n",
      "Accuracy by chance: 1.1127\n",
      "Log-odds difference: 0.9537\n",
      "ROC AUC: 0.7875\n",
      "PR AUC: 0.4281\n"
     ]
    }
   ],
   "source": [
    "print('Experiment 05c')\n",
    "print('--------------')\n",
    "exp_race = utils.analyze_experiment(here('experiments/exp05c.pkl'), verbose=True)"
   ]
  },
  {
   "cell_type": "code",
   "execution_count": null,
   "id": "6729278e-250c-417b-9ed1-fdd15d6e8e56",
   "metadata": {},
   "outputs": [],
   "source": []
  }
 ],
 "metadata": {
  "kernelspec": {
   "display_name": "hate",
   "language": "python",
   "name": "hate"
  },
  "language_info": {
   "codemirror_mode": {
    "name": "ipython",
    "version": 3
   },
   "file_extension": ".py",
   "mimetype": "text/x-python",
   "name": "python",
   "nbconvert_exporter": "python",
   "pygments_lexer": "ipython3",
   "version": "3.8.12"
  }
 },
 "nbformat": 4,
 "nbformat_minor": 5
}
