{
 "cells": [
  {
   "cell_type": "code",
   "execution_count": 1,
   "id": "571ce57e-c240-4534-a3d4-47840f85f000",
   "metadata": {},
   "outputs": [],
   "source": [
    "import matplotlib.pyplot as plt\n",
    "import mpl_lego as mplego\n",
    "import numpy as np\n",
    "import pandas as pd\n",
    "\n",
    "from hate_target import keys\n",
    "from mpl_lego.labels import bold_text\n",
    "\n",
    "%matplotlib inline"
   ]
  },
  {
   "cell_type": "code",
   "execution_count": 2,
   "id": "17ab2721-96ba-4120-a5d2-fa656c53ac9a",
   "metadata": {},
   "outputs": [],
   "source": [
    "n_groups = len(keys.target_groups)"
   ]
  },
  {
   "cell_type": "code",
   "execution_count": 3,
   "id": "8c54bfb9-be30-4c8a-b087-f8b36a2283f4",
   "metadata": {},
   "outputs": [],
   "source": [
    "mplego.style.use_latex_style()"
   ]
  },
  {
   "cell_type": "code",
   "execution_count": 4,
   "id": "d8694151-0931-4033-b96f-1cdc138c806f",
   "metadata": {},
   "outputs": [],
   "source": [
    "data_path = \"~/data/hatespeech/unfiltered_ratings.feather\""
   ]
  },
  {
   "cell_type": "code",
   "execution_count": 5,
   "id": "313fb0b7-aee9-4f91-b0c0-96a2061310fc",
   "metadata": {},
   "outputs": [],
   "source": [
    "data = pd.read_feather(data_path)\n",
    "n_samples = data.shape[0]"
   ]
  },
  {
   "cell_type": "code",
   "execution_count": 24,
   "id": "30f0b490-74e5-4c1e-8d30-97845aa68259",
   "metadata": {},
   "outputs": [],
   "source": [
    "ruff = [pew for pew in data['predict_text'] if '[SLUR]' in pew]"
   ]
  },
  {
   "cell_type": "code",
   "execution_count": 34,
   "id": "bcdaeb1c-ddd2-4926-88f1-c424992be8e6",
   "metadata": {},
   "outputs": [
    {
     "data": {
      "text/plain": [
       "'[SLUR] bitch was making a little ass boy eat ha pussy and she got herpes and shit. Hoe needed her ass whooped'"
      ]
     },
     "execution_count": 34,
     "metadata": {},
     "output_type": "execute_result"
    }
   ],
   "source": [
    "ruff[40]"
   ]
  },
  {
   "cell_type": "code",
   "execution_count": 6,
   "id": "775423c5-ce7e-415a-b879-4736759e9b91",
   "metadata": {},
   "outputs": [],
   "source": [
    "agreement = data[['comment_id'] + keys.target_groups].groupby('comment_id').agg('mean')\n",
    "is_target = agreement >= 0.5\n",
    "group_counts = is_target.sum()"
   ]
  },
  {
   "cell_type": "code",
   "execution_count": 22,
   "id": "fae91ba4-f5a8-4015-aa96-42bdfd7563b0",
   "metadata": {},
   "outputs": [],
   "source": [
    "# Read in data\n",
    "data = pd.read_feather(data_path)\n",
    "comments = data[['comment_id', 'predict_text']].drop_duplicates().sort_values('comment_id')\n",
    "# Determine target identities\n",
    "agreement = data[['comment_id'] + keys.target_groups].groupby('comment_id').agg('mean')\n",
    "agreement = agreement.reset_index(level=0).merge(right=comments, how='left')\n",
    "# Extract data for training models\n",
    "x = agreement['predict_text'].values\n",
    "identities = agreement[sorted(keys.target_groups)]\n",
    "y = [identities[col].values[..., np.newaxis] for col in identities]"
   ]
  },
  {
   "cell_type": "code",
   "execution_count": 23,
   "id": "c3853671-81e3-4797-8255-7129f0c741ae",
   "metadata": {},
   "outputs": [
    {
     "data": {
      "text/plain": [
       "array([[0.8 ],\n",
       "       [0.  ],\n",
       "       [0.75],\n",
       "       ...,\n",
       "       [0.  ],\n",
       "       [0.  ],\n",
       "       [0.  ]])"
      ]
     },
     "execution_count": 23,
     "metadata": {},
     "output_type": "execute_result"
    }
   ],
   "source": [
    "y[5]"
   ]
  },
  {
   "cell_type": "code",
   "execution_count": 7,
   "id": "c111338f-0b3f-4d46-8d0f-0dddd3754844",
   "metadata": {},
   "outputs": [],
   "source": [
    "binarized = is_target.values.astype('int')"
   ]
  },
  {
   "cell_type": "code",
   "execution_count": 12,
   "id": "305d2e94-1c40-447e-8193-715eb6f9afc7",
   "metadata": {},
   "outputs": [
    {
     "data": {
      "text/plain": [
       "30316"
      ]
     },
     "execution_count": 12,
     "metadata": {},
     "output_type": "execute_result"
    }
   ],
   "source": [
    "is_target.any(axis=1).sum()"
   ]
  },
  {
   "cell_type": "code",
   "execution_count": 9,
   "id": "7f2d0c84-f75e-4f86-b95b-4b555d0b1fc7",
   "metadata": {},
   "outputs": [
    {
     "data": {
      "image/png": "[encoded data removed]",
      "text/plain": [
       "<Figure size 720x360 with 1 Axes>"
      ]
     },
     "metadata": {
      "needs_background": "light"
     },
     "output_type": "display_data"
    }
   ],
   "source": [
    "fig, ax = plt.subplots(1, 1, figsize=(10, 5))\n",
    "\n",
    "argsorted = np.argsort(group_counts.values)\n",
    "sorted_labels = np.array(keys.target_labels)[argsorted]\n",
    "\n",
    "ax.barh(np.arange(n_groups), group_counts[argsorted])\n",
    "ax.set_yticks(np.arange(n_groups))\n",
    "ax.set_yticklabels(sorted_labels)\n",
    "mplego.labels.bold_axis_ticklabels(ax, 'y')\n",
    "ax.tick_params(labelsize=18)\n",
    "\n",
    "plt.savefig('counts', bbox_inches='tight')"
   ]
  },
  {
   "cell_type": "code",
   "execution_count": 9,
   "id": "40801b71-4c4b-4c38-b090-1099b843e177",
   "metadata": {},
   "outputs": [
    {
     "data": {
      "text/plain": [
       "array([0.02951491, 0.01651261, 0.01618125, 0.0329907 , 0.0181832 ,\n",
       "       0.0011701 , 0.00173272, 0.00863598])"
      ]
     },
     "execution_count": 9,
     "metadata": {},
     "output_type": "execute_result"
    }
   ],
   "source": [
    "group_counts.values / n_samples"
   ]
  },
  {
   "cell_type": "code",
   "execution_count": 10,
   "id": "b32881fc-264d-416d-850d-b62690da9dee",
   "metadata": {},
   "outputs": [
    {
     "data": {
      "text/plain": [
       "36192"
      ]
     },
     "execution_count": 10,
     "metadata": {},
     "output_type": "execute_result"
    }
   ],
   "source": [
    "group_counts.sum()"
   ]
  },
  {
   "cell_type": "code",
   "execution_count": 48,
   "id": "ce90442d-685e-4a7a-aa73-4fbccae42232",
   "metadata": {},
   "outputs": [
    {
     "data": {
      "text/plain": [
       "[Text(0, 0, 'Age'),\n",
       " Text(0, 1, 'Disability'),\n",
       " Text(0, 2, 'Politics'),\n",
       " Text(0, 3, 'Origin'),\n",
       " Text(0, 4, 'Religion'),\n",
       " Text(0, 5, 'Sexuality'),\n",
       " Text(0, 6, 'Race'),\n",
       " Text(0, 7, 'Gender')]"
      ]
     },
     "execution_count": 48,
     "metadata": {},
     "output_type": "execute_result"
    },
    {
     "data": {
      "image/png": "[encoded data removed]",
      "text/plain": [
       "<Figure size 720x720 with 1 Axes>"
      ]
     },
     "metadata": {
      "needs_background": "light"
     },
     "output_type": "display_data"
    }
   ],
   "source": [
    "fig, ax = plt.subplots(1, 1, figsize=(10, 10))\n",
    "\n",
    "cross_counts = binarized[:, argsorted].T @ binarized[:, argsorted]\n",
    "\n",
    "ax.imshow(cross_counts)\n",
    "ax.set_xticks(np.arange(n_groups))\n",
    "ax.set_xticklabels(sorted_labels)\n",
    "ax.set_yticks(np.arange(n_groups))\n",
    "ax.set_yticklabels(sorted_labels)"
   ]
  },
  {
   "cell_type": "code",
   "execution_count": 49,
   "id": "08cc2f6e-f5fd-4f7b-aa5f-77e092e89ee3",
   "metadata": {},
   "outputs": [],
   "source": [
    "n_targets_per_comment = is_target.sum(axis=1)"
   ]
  },
  {
   "cell_type": "code",
   "execution_count": 55,
   "id": "e021abd2-6879-450a-95b8-eb1d96759373",
   "metadata": {},
   "outputs": [
    {
     "data": {
      "text/plain": [
       "0    19754\n",
       "1    25141\n",
       "2     4556\n",
       "3      546\n",
       "4       67\n",
       "5        5\n",
       "8        1\n",
       "dtype: int64"
      ]
     },
     "execution_count": 55,
     "metadata": {},
     "output_type": "execute_result"
    }
   ],
   "source": [
    "n_targets_per_comment.value_counts().sort_index()"
   ]
  },
  {
   "cell_type": "code",
   "execution_count": 63,
   "id": "29b9e2de-0365-4470-8e14-8c85e47173b8",
   "metadata": {},
   "outputs": [
    {
     "data": {
      "text/plain": [
       "(array([32793.,   595.,  6578.,   384.,  1169.,  3647.,   237.,  2098.,\n",
       "          807.,  1762.]),\n",
       " array([0. , 0.1, 0.2, 0.3, 0.4, 0.5, 0.6, 0.7, 0.8, 0.9, 1. ]),\n",
       " <BarContainer object of 10 artists>)"
      ]
     },
     "execution_count": 63,
     "metadata": {},
     "output_type": "execute_result"
    },
    {
     "data": {
      "image/png": "[encoded data removed]",
      "text/plain": [
       "<Figure size 432x288 with 1 Axes>"
      ]
     },
     "metadata": {
      "needs_background": "light"
     },
     "output_type": "display_data"
    }
   ],
   "source": [
    "plt.hist(agreement['target_race'])"
   ]
  },
  {
   "cell_type": "code",
   "execution_count": null,
   "id": "9e6afffb-28f9-49fd-b45d-8529d097b65a",
   "metadata": {},
   "outputs": [],
   "source": []
  }
 ],
 "metadata": {
  "kernelspec": {
   "display_name": "hate",
   "language": "python",
   "name": "hate"
  },
  "language_info": {
   "codemirror_mode": {
    "name": "ipython",
    "version": 3
   },
   "file_extension": ".py",
   "mimetype": "text/x-python",
   "name": "python",
   "nbconvert_exporter": "python",
   "pygments_lexer": "ipython3",
   "version": "3.8.12"
  }
 },
 "nbformat": 4,
 "nbformat_minor": 5
}
