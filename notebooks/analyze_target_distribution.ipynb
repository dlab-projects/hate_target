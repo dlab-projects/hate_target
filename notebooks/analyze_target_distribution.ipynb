{
 "cells": [
  {
   "cell_type": "code",
   "execution_count": null,
   "id": "571ce57e-c240-4534-a3d4-47840f85f000",
   "metadata": {},
   "outputs": [],
   "source": [
    "import matplotlib.pyplot as plt\n",
    "import mpl_lego as mplego\n",
    "import numpy as np\n",
    "import pandas as pd\n",
    "\n",
    "from hate_target import keys\n",
    "from mpl_lego.labels import bold_text\n",
    "\n",
    "%matplotlib inline"
   ]
  },
  {
   "cell_type": "code",
   "execution_count": null,
   "id": "17ab2721-96ba-4120-a5d2-fa656c53ac9a",
   "metadata": {},
   "outputs": [],
   "source": [
    "n_groups = len(keys.target_groups)"
   ]
  },
  {
   "cell_type": "code",
   "execution_count": null,
   "id": "8c54bfb9-be30-4c8a-b087-f8b36a2283f4",
   "metadata": {},
   "outputs": [],
   "source": [
    "mplego.style.use_latex_style()"
   ]
  },
  {
   "cell_type": "code",
   "execution_count": null,
   "id": "d8694151-0931-4033-b96f-1cdc138c806f",
   "metadata": {},
   "outputs": [],
   "source": [
    "data_path = \"~/data/hatespeech/unfiltered_ratings.feather\""
   ]
  },
  {
   "cell_type": "code",
   "execution_count": null,
   "id": "313fb0b7-aee9-4f91-b0c0-96a2061310fc",
   "metadata": {},
   "outputs": [],
   "source": [
    "data = pd.read_feather(data_path)\n",
    "n_samples = data.shape[0]"
   ]
  },
  {
   "cell_type": "code",
   "execution_count": null,
   "id": "bcdaeb1c-ddd2-4926-88f1-c424992be8e6",
   "metadata": {},
   "outputs": [],
   "source": [
    "data['predict_text']"
   ]
  },
  {
   "cell_type": "code",
   "execution_count": null,
   "id": "7ab5f9fc-bb27-421d-8c07-07ff65922e43",
   "metadata": {},
   "outputs": [],
   "source": [
    "data['predict_text']"
   ]
  },
  {
   "cell_type": "code",
   "execution_count": null,
   "id": "775423c5-ce7e-415a-b879-4736759e9b91",
   "metadata": {},
   "outputs": [],
   "source": [
    "agreement = data[['comment_id'] + keys.target_groups].groupby('comment_id').agg('mean')\n",
    "is_target = agreement >= 0.5\n",
    "group_counts = is_target.sum()"
   ]
  },
  {
   "cell_type": "code",
   "execution_count": null,
   "id": "fae91ba4-f5a8-4015-aa96-42bdfd7563b0",
   "metadata": {},
   "outputs": [],
   "source": [
    "# Read in data\n",
    "data = pd.read_feather(data_path)\n",
    "comments = data[['comment_id', 'predict_text']].drop_duplicates().sort_values('comment_id')\n",
    "# Determine target identities\n",
    "agreement = data[['comment_id'] + keys.target_groups].groupby('comment_id').agg('mean')\n",
    "agreement = agreement.reset_index(level=0).merge(right=comments, how='left')\n",
    "# Extract data for training models\n",
    "x = agreement['predict_text'].values\n",
    "identities = agreement[sorted(keys.target_groups)]\n",
    "y = [identities[col].values[..., np.newaxis] for col in identities]"
   ]
  },
  {
   "cell_type": "code",
   "execution_count": null,
   "id": "c3853671-81e3-4797-8255-7129f0c741ae",
   "metadata": {},
   "outputs": [],
   "source": [
    "y[5]"
   ]
  },
  {
   "cell_type": "code",
   "execution_count": null,
   "id": "c111338f-0b3f-4d46-8d0f-0dddd3754844",
   "metadata": {},
   "outputs": [],
   "source": [
    "binarized = is_target.values.astype('int')"
   ]
  },
  {
   "cell_type": "code",
   "execution_count": null,
   "id": "305d2e94-1c40-447e-8193-715eb6f9afc7",
   "metadata": {},
   "outputs": [],
   "source": [
    "is_target.any(axis=1).sum()"
   ]
  },
  {
   "cell_type": "code",
   "execution_count": null,
   "id": "7f2d0c84-f75e-4f86-b95b-4b555d0b1fc7",
   "metadata": {},
   "outputs": [],
   "source": [
    "fig, ax = plt.subplots(1, 1, figsize=(10, 5))\n",
    "\n",
    "argsorted = np.argsort(group_counts.values)\n",
    "sorted_labels = np.array(keys.target_labels)[argsorted]\n",
    "\n",
    "ax.barh(np.arange(n_groups), group_counts[argsorted])\n",
    "ax.set_yticks(np.arange(n_groups))\n",
    "ax.set_yticklabels(sorted_labels)\n",
    "mplego.labels.bold_axis_ticklabels(ax, 'y')\n",
    "ax.tick_params(labelsize=18)\n",
    "\n",
    "plt.savefig('counts', bbox_inches='tight')"
   ]
  },
  {
   "cell_type": "code",
   "execution_count": null,
   "id": "40801b71-4c4b-4c38-b090-1099b843e177",
   "metadata": {},
   "outputs": [],
   "source": [
    "group_counts.values / n_samples"
   ]
  },
  {
   "cell_type": "code",
   "execution_count": null,
   "id": "b32881fc-264d-416d-850d-b62690da9dee",
   "metadata": {},
   "outputs": [],
   "source": [
    "group_counts.sum()"
   ]
  },
  {
   "cell_type": "code",
   "execution_count": null,
   "id": "ce90442d-685e-4a7a-aa73-4fbccae42232",
   "metadata": {},
   "outputs": [],
   "source": [
    "fig, ax = plt.subplots(1, 1, figsize=(10, 10))\n",
    "\n",
    "cross_counts = binarized[:, argsorted].T @ binarized[:, argsorted]\n",
    "\n",
    "ax.imshow(cross_counts)\n",
    "ax.set_xticks(np.arange(n_groups))\n",
    "ax.set_xticklabels(sorted_labels)\n",
    "ax.set_yticks(np.arange(n_groups))\n",
    "ax.set_yticklabels(sorted_labels)"
   ]
  },
  {
   "cell_type": "code",
   "execution_count": null,
   "id": "08cc2f6e-f5fd-4f7b-aa5f-77e092e89ee3",
   "metadata": {},
   "outputs": [],
   "source": [
    "n_targets_per_comment = is_target.sum(axis=1)"
   ]
  },
  {
   "cell_type": "code",
   "execution_count": null,
   "id": "e021abd2-6879-450a-95b8-eb1d96759373",
   "metadata": {},
   "outputs": [],
   "source": [
    "n_targets_per_comment.value_counts().sort_index()"
   ]
  },
  {
   "cell_type": "code",
   "execution_count": null,
   "id": "29b9e2de-0365-4470-8e14-8c85e47173b8",
   "metadata": {},
   "outputs": [],
   "source": [
    "plt.hist(agreement['target_race'])"
   ]
  },
  {
   "cell_type": "code",
   "execution_count": null,
   "id": "9e6afffb-28f9-49fd-b45d-8529d097b65a",
   "metadata": {},
   "outputs": [],
   "source": []
  }
 ],
 "metadata": {
  "kernelspec": {
   "display_name": "hate",
   "language": "python",
   "name": "hate"
  },
  "language_info": {
   "codemirror_mode": {
    "name": "ipython",
    "version": 3
   },
   "file_extension": ".py",
   "mimetype": "text/x-python",
   "name": "python",
   "nbconvert_exporter": "python",
   "pygments_lexer": "ipython3",
   "version": "3.8.12"
  }
 },
 "nbformat": 4,
 "nbformat_minor": 5
}
